{
 "cells": [
  {
   "cell_type": "markdown",
   "metadata": {},
   "source": [
    "**Requirements**\n",
    "- You need to have the `cognite-sdk` package installed\n",
    "- The environment variables `COGNITE_API_KEY` and `COGNITE_CLIENT_NAME` should be set"
   ]
  },
  {
   "cell_type": "markdown",
   "metadata": {},
   "source": [
    "**IMPORTANT:** You have to run the python file \"generate_comp_data.py\" to create the time series for this tutorial"
   ]
  },
  {
   "cell_type": "code",
   "execution_count": 1,
   "metadata": {},
   "outputs": [],
   "source": [
    "%matplotlib inline\n",
    "import time\n",
    "import requests\n",
    "\n",
    "from cognite.client.experimental import CogniteClient\n",
    "from cognite.model_hosting.data_spec import *\n",
    "from cognite.model_hosting.data_fetcher import DataFetcher\n",
    "\n",
    "client = CogniteClient()\n",
    "mlh = client.model_hosting"
   ]
  },
  {
   "cell_type": "markdown",
   "metadata": {},
   "source": [
    "# Deploy model"
   ]
  },
  {
   "cell_type": "markdown",
   "metadata": {},
   "source": [
    "\n",
    "In this tutorial we will run a very simple scheduled model to demonstrate how to inspect the schedule logs for errors and how to set up notifications using webhooks. The specifics on how to make a source package, model and schedule are covered in depth in the other examples in the examples/model_hosting folder. However basic explanations will be written here."
   ]
  },
  {
   "cell_type": "markdown",
   "metadata": {},
   "source": [
    "Our model will look at the difference between two time series representing inlet pressure and outlet pressure of a compressor. We will calculate the CPR(Compressor Pressure Ration) of the compressor."
   ]
  },
  {
   "cell_type": "markdown",
   "metadata": {},
   "source": [
    "To ensure our model fails, we will make our model return the results using an incorrect format. The source package for this function can be found in the cpr folder. Later we will use the correct model, which can be found in the cprfix folder."
   ]
  },
  {
   "cell_type": "markdown",
   "metadata": {},
   "source": [
    "## 1. Create the model"
   ]
  },
  {
   "cell_type": "markdown",
   "metadata": {},
   "source": [
    "First we will create a model container to where we will deploy our model versions."
   ]
  },
  {
   "cell_type": "code",
   "execution_count": 2,
   "metadata": {
    "scrolled": false
   },
   "outputs": [],
   "source": [
    "model_name = \"cpr-function\"\n",
    "mlh.models.create_model(\n",
    "    name=model_name,\n",
    "    input_fields=[{\"name\": \"x1\", \"type\": \"TIME_SERIES\"}, \n",
    "                  {\"name\": \"x2\", \"type\": \"TIME_SERIES\"}],\n",
    "    output_fields=[{\"name\": \"y\", \"type\": \"TIME_SERIES\"}],\n",
    ")"
   ]
  },
  {
   "cell_type": "markdown",
   "metadata": {},
   "source": [
    "## 2. Create the source package"
   ]
  },
  {
   "cell_type": "markdown",
   "metadata": {},
   "source": [
    "Then we upload our source package to the hosting environment"
   ]
  },
  {
   "cell_type": "code",
   "execution_count": 3,
   "metadata": {},
   "outputs": [
    {
     "data": {
      "text/plain": [
       "5621544218520938"
      ]
     },
     "execution_count": 3,
     "metadata": {},
     "output_type": "execute_result"
    }
   ],
   "source": [
    "source_package_id = mlh.source_packages.build_and_upload_source_package(\n",
    "    name=\"cpr\", \n",
    "    runtime_version=\"0.1\", \n",
    "    package_directory=\"cpr\"\n",
    ").id\n",
    "source_package_id"
   ]
  },
  {
   "cell_type": "markdown",
   "metadata": {},
   "source": [
    "## 3. Deploy model"
   ]
  },
  {
   "cell_type": "markdown",
   "metadata": {},
   "source": [
    "Then we deploy our function as a model version"
   ]
  },
  {
   "cell_type": "code",
   "execution_count": 4,
   "metadata": {},
   "outputs": [],
   "source": [
    "version_name = \"broken\"\n",
    "mlh.versions.deploy_model_version(\n",
    "    model_name=model_name,\n",
    "    version_name=version_name,\n",
    "    source_package_id=source_package_id,\n",
    ")"
   ]
  },
  {
   "cell_type": "markdown",
   "metadata": {},
   "source": [
    "Before we proceed we need to ensure the model is deployed. This is done when the status is set to ready:"
   ]
  },
  {
   "cell_type": "code",
   "execution_count": 6,
   "metadata": {},
   "outputs": [
    {
     "name": "stdout",
     "output_type": "stream",
     "text": [
      "DEPLOYING\n",
      "DEPLOYING\n",
      "DEPLOYING\n",
      "DEPLOYING\n",
      "DEPLOYING\n"
     ]
    },
    {
     "data": {
      "text/plain": [
       "'READY'"
      ]
     },
     "execution_count": 6,
     "metadata": {},
     "output_type": "execute_result"
    }
   ],
   "source": [
    "while mlh.versions.get_model_version(model_name, version_name).status == 'DEPLOYING':\n",
    "    print(mlh.versions.get_model_version(model_name, version_name).status)\n",
    "    time.sleep(10)\n",
    "mlh.versions.get_model_version(model_name, version_name).status"
   ]
  },
  {
   "cell_type": "markdown",
   "metadata": {},
   "source": [
    "## 4. Set up schedule"
   ]
  },
  {
   "cell_type": "markdown",
   "metadata": {},
   "source": [
    "Now we can create a schedule spec to define which data we will pass to our function and how the input data will be processed."
   ]
  },
  {
   "cell_type": "code",
   "execution_count": 7,
   "metadata": {},
   "outputs": [],
   "source": [
    "# NOTE: USE YOUR OWN TIME SERIES' HERE\n",
    "INLET_TS = 1158466314740443 # Fill in your own time series ID\n",
    "OUTLET_TS = 6792212704904482 # Fill in your own time series ID\n",
    "CPR_TS = 4250884548062075  # Fill in your own time series ID\n",
    "\n",
    "schedule_data_spec = ScheduleDataSpec(\n",
    "    input=ScheduleInputSpec(\n",
    "        time_series={\n",
    "            \"x1\": ScheduleInputTimeSeriesSpec(\n",
    "                id=INLET_TS, \n",
    "                aggregate=\"average\", \n",
    "                granularity=\"10s\"\n",
    "            ),\n",
    "            \"x2\": ScheduleInputTimeSeriesSpec(\n",
    "                id=OUTLET_TS, \n",
    "                aggregate=\"average\", \n",
    "                granularity=\"10s\")\n",
    "        }\n",
    "    ),\n",
    "    output=ScheduleOutputSpec(\n",
    "        time_series={\n",
    "            \"y\": ScheduleOutputTimeSeriesSpec(\n",
    "                id=CPR_TS\n",
    "            )\n",
    "        }\n",
    "    ),\n",
    "    start=\"now\",\n",
    "    stride=\"1m\",\n",
    "    window_size=\"1m\",\n",
    "    slack=\"5m\",\n",
    ")"
   ]
  },
  {
   "cell_type": "markdown",
   "metadata": {},
   "source": [
    "Now we can start running the schedule"
   ]
  },
  {
   "cell_type": "code",
   "execution_count": 9,
   "metadata": {},
   "outputs": [],
   "source": [
    "schedule_name = \"schedule-troubleshooting-tutorial\"\n",
    "mlh.schedules.create_schedule(\n",
    "    model_name=model_name,\n",
    "    schedule_name=schedule_name,\n",
    "    schedule_data_spec=schedule_data_spec,\n",
    "    description=\"CPR of 1stgcomp at Valhall\"\n",
    ")"
   ]
  },
  {
   "cell_type": "markdown",
   "metadata": {},
   "source": [
    "The CPR time series is now being updated every minute."
   ]
  },
  {
   "cell_type": "markdown",
   "metadata": {},
   "source": [
    "# Troubleshoot"
   ]
  },
  {
   "cell_type": "markdown",
   "metadata": {},
   "source": [
    "## Retrive and inspect schedule logs:"
   ]
  },
  {
   "cell_type": "markdown",
   "metadata": {},
   "source": [
    "Now let's inspect the schedule logs to see how it's going. "
   ]
  },
  {
   "cell_type": "code",
   "execution_count": 11,
   "metadata": {
    "scrolled": false
   },
   "outputs": [
    {
     "data": {
      "text/plain": [
       "[{\n",
       "     \"timestamp\": \"2019-11-07 16:07:27\",\n",
       "     \"scheduled_execution_time\": \"2019-11-07 16:06:50\",\n",
       "     \"message\": \"Uncaught exception in the user code:\\nTraceback (most recent call last):\\n  File \\\"/tmp/custom_lib/ml_engine_base/base.py\\\", line 72, in _do_predict\\n    return self._predict(instance=instance, **args)\\n  File \\\"/tmp/custom_lib/cpr/model.py\\\", line 15, in predict\\n    return to_output(df.size)\\n  File \\\"/tmp/custom_lib/cognite/model_hosting/schedules/schedules.py\\\", line 42, in to_output\\n    raise TypeError(\\\"dataframe should be a pandas DataFrame or list of pandas DataFrames\\\")\\nTypeError: dataframe should be a pandas DataFrame or list of pandas DataFrames\\n\\nRemaining retries: 3\"\n",
       " }, {\n",
       "     \"timestamp\": \"2019-11-07 16:07:28\",\n",
       "     \"scheduled_execution_time\": \"2019-11-07 16:06:50\",\n",
       "     \"message\": \"Uncaught exception in the user code:\\nTraceback (most recent call last):\\n  File \\\"/tmp/custom_lib/ml_engine_base/base.py\\\", line 72, in _do_predict\\n    return self._predict(instance=instance, **args)\\n  File \\\"/tmp/custom_lib/cpr/model.py\\\", line 15, in predict\\n    return to_output(df.size)\\n  File \\\"/tmp/custom_lib/cognite/model_hosting/schedules/schedules.py\\\", line 42, in to_output\\n    raise TypeError(\\\"dataframe should be a pandas DataFrame or list of pandas DataFrames\\\")\\nTypeError: dataframe should be a pandas DataFrame or list of pandas DataFrames\\n\\nRemaining retries: 2\"\n",
       " }, {\n",
       "     \"timestamp\": \"2019-11-07 16:07:28\",\n",
       "     \"scheduled_execution_time\": \"2019-11-07 16:06:50\",\n",
       "     \"message\": \"Uncaught exception in the user code:\\nTraceback (most recent call last):\\n  File \\\"/tmp/custom_lib/ml_engine_base/base.py\\\", line 72, in _do_predict\\n    return self._predict(instance=instance, **args)\\n  File \\\"/tmp/custom_lib/cpr/model.py\\\", line 15, in predict\\n    return to_output(df.size)\\n  File \\\"/tmp/custom_lib/cognite/model_hosting/schedules/schedules.py\\\", line 42, in to_output\\n    raise TypeError(\\\"dataframe should be a pandas DataFrame or list of pandas DataFrames\\\")\\nTypeError: dataframe should be a pandas DataFrame or list of pandas DataFrames\\n\\nRemaining retries: 1\"\n",
       " }]"
      ]
     },
     "execution_count": 11,
     "metadata": {},
     "output_type": "execute_result"
    }
   ],
   "source": [
    "while len(mlh.schedules.get_log(model_name, schedule_name).dump()['failed'])<2:\n",
    "    time.sleep(5)\n",
    "mlh.schedules.get_log(model_name, schedule_name).dump()['failed'][0:3]"
   ]
  },
  {
   "cell_type": "markdown",
   "metadata": {},
   "source": [
    "As we see the schedule is failing. Now you would change the predict funtion in the CPR module. However to keep this tutorial usable without changing the functions we create a new source package from the folder \"cprfix\"."
   ]
  },
  {
   "cell_type": "code",
   "execution_count": 12,
   "metadata": {},
   "outputs": [],
   "source": [
    "source_package_id_fixed = mlh.source_packages.build_and_upload_source_package(\n",
    "    name=\"cpr-fix\", \n",
    "    runtime_version=\"0.1\", \n",
    "    package_directory=\"cprfix\"\n",
    ").id"
   ]
  },
  {
   "cell_type": "code",
   "execution_count": 15,
   "metadata": {},
   "outputs": [],
   "source": [
    "version_name_fixed = \"cpr-function-fixed\"\n",
    "mlh.versions.deploy_model_version(\n",
    "    model_name=model_name,\n",
    "    version_name=version_name_fixed,\n",
    "    source_package_id=source_package_id_fixed,\n",
    ")"
   ]
  },
  {
   "cell_type": "code",
   "execution_count": 16,
   "metadata": {},
   "outputs": [
    {
     "name": "stdout",
     "output_type": "stream",
     "text": [
      "DEPLOYING\n",
      "DEPLOYING\n",
      "DEPLOYING\n",
      "DEPLOYING\n"
     ]
    },
    {
     "data": {
      "text/plain": [
       "'READY'"
      ]
     },
     "execution_count": 16,
     "metadata": {},
     "output_type": "execute_result"
    }
   ],
   "source": [
    "while mlh.versions.get_model_version(model_name, version_name_fixed).status == 'DEPLOYING':\n",
    "    print(mlh.versions.get_model_version(model_name, version_name_fixed).status)\n",
    "    time.sleep(10)\n",
    "mlh.versions.get_model_version(model_name, version_name_fixed).status"
   ]
  },
  {
   "cell_type": "markdown",
   "metadata": {},
   "source": [
    "We now need to update the model to use the new source package"
   ]
  },
  {
   "cell_type": "code",
   "execution_count": 18,
   "metadata": {},
   "outputs": [
    {
     "data": {
      "text/html": [
       "<div>\n",
       "<style scoped>\n",
       "    .dataframe tbody tr th:only-of-type {\n",
       "        vertical-align: middle;\n",
       "    }\n",
       "\n",
       "    .dataframe tbody tr th {\n",
       "        vertical-align: top;\n",
       "    }\n",
       "\n",
       "    .dataframe thead th {\n",
       "        text-align: right;\n",
       "    }\n",
       "</style>\n",
       "<table border=\"1\" class=\"dataframe\">\n",
       "  <thead>\n",
       "    <tr style=\"text-align: right;\">\n",
       "      <th></th>\n",
       "      <th>value</th>\n",
       "    </tr>\n",
       "  </thead>\n",
       "  <tbody>\n",
       "    <tr>\n",
       "      <th>name</th>\n",
       "      <td>cpr-function</td>\n",
       "    </tr>\n",
       "    <tr>\n",
       "      <th>description</th>\n",
       "      <td></td>\n",
       "    </tr>\n",
       "    <tr>\n",
       "      <th>createdTime</th>\n",
       "      <td>1573142552379</td>\n",
       "    </tr>\n",
       "    <tr>\n",
       "      <th>isDeprecated</th>\n",
       "      <td>False</td>\n",
       "    </tr>\n",
       "    <tr>\n",
       "      <th>activeVersionName</th>\n",
       "      <td>cpr-function-fixed</td>\n",
       "    </tr>\n",
       "    <tr>\n",
       "      <th>inputFields</th>\n",
       "      <td>[{'type': 'TIME_SERIES', 'description': '', 'n...</td>\n",
       "    </tr>\n",
       "    <tr>\n",
       "      <th>outputFields</th>\n",
       "      <td>[{'type': 'TIME_SERIES', 'description': '', 'n...</td>\n",
       "    </tr>\n",
       "  </tbody>\n",
       "</table>\n",
       "</div>"
      ],
      "text/plain": [
       "<cognite.client.data_classes.model_hosting.models.Model at 0x22196f3b2e8>"
      ]
     },
     "execution_count": 18,
     "metadata": {},
     "output_type": "execute_result"
    }
   ],
   "source": [
    "mlh.models.update_model(name=model_name, active_version_name=version_name_fixed)"
   ]
  },
  {
   "cell_type": "markdown",
   "metadata": {},
   "source": [
    "The schedule will now automatically use the new source package. We can ensure this is working by inspecting the latest schedule log. You can now see that there are new entries to the completed section. "
   ]
  },
  {
   "cell_type": "code",
   "execution_count": 19,
   "metadata": {},
   "outputs": [
    {
     "data": {
      "text/plain": [
       "[{\n",
       "     \"timestamp\": \"2019-11-07 16:12:02\",\n",
       "     \"scheduled_execution_time\": \"2019-11-07 16:07:50\",\n",
       "     \"message\": \"Succesfully completed scheduled prediction\"\n",
       " }, {\n",
       "     \"timestamp\": \"2019-11-07 16:13:02\",\n",
       "     \"scheduled_execution_time\": \"2019-11-07 16:08:50\",\n",
       "     \"message\": \"Succesfully completed scheduled prediction\"\n",
       " }, {\n",
       "     \"timestamp\": \"2019-11-07 16:14:03\",\n",
       "     \"scheduled_execution_time\": \"2019-11-07 16:09:50\",\n",
       "     \"message\": \"Succesfully completed scheduled prediction\"\n",
       " }]"
      ]
     },
     "execution_count": 19,
     "metadata": {},
     "output_type": "execute_result"
    }
   ],
   "source": [
    "while len(mlh.schedules.get_log(model_name, schedule_name).dump()['completed'])<3:\n",
    "    time.sleep(5)\n",
    "mlh.schedules.get_log(model_name, schedule_name).dump()['completed'][0:3]"
   ]
  },
  {
   "cell_type": "markdown",
   "metadata": {},
   "source": [
    "We now see that the schedule is running without problems. We can now plot the compressor pressure ratio."
   ]
  },
  {
   "cell_type": "code",
   "execution_count": 20,
   "metadata": {},
   "outputs": [
    {
     "data": {
      "text/plain": [
       "<matplotlib.axes._subplots.AxesSubplot at 0x2219918bfd0>"
      ]
     },
     "execution_count": 20,
     "metadata": {},
     "output_type": "execute_result"
    },
    {
     "data": {
      "image/png": "[encoded data removed]",
      "text/plain": [
       "<Figure size 432x288 with 1 Axes>"
      ]
     },
     "metadata": {
      "needs_background": "light"
     },
     "output_type": "display_data"
    },
    {
     "data": {
      "image/png": "[encoded data removed]",
      "text/plain": [
       "<Figure size 432x288 with 1 Axes>"
      ]
     },
     "metadata": {
      "needs_background": "light"
     },
     "output_type": "display_data"
    }
   ],
   "source": [
    "ds = DataSpec(\n",
    "    time_series={\n",
    "        \"inlet_pressure\": TimeSeriesSpec(\n",
    "            id=INLET_TS, \n",
    "            aggregate=\"average\", \n",
    "            granularity=\"10s\", \n",
    "            start=\"5m-ago\", \n",
    "            end=\"now\"\n",
    "        ),\n",
    "        \"outlet_pressure\": TimeSeriesSpec(\n",
    "            id=OUTLET_TS, \n",
    "            aggregate=\"average\", \n",
    "            granularity=\"10s\", \n",
    "            start=\"5m-ago\", \n",
    "            end=\"now\"\n",
    "        ),\n",
    "        \"cpr\": TimeSeriesSpec(\n",
    "            id=CPR_TS, \n",
    "            aggregate=\"average\", \n",
    "            granularity=\"10s\", \n",
    "            start=\"5m-ago\", \n",
    "            end=\"now\"\n",
    "        )\n",
    "})\n",
    "\n",
    "df = DataFetcher(ds).time_series.fetch_dataframe([\"inlet_pressure\", \"outlet_pressure\", \"cpr\"])\n",
    "df.plot(y=['inlet_pressure','outlet_pressure'])\n",
    "df.plot(y='cpr')"
   ]
  },
  {
   "cell_type": "markdown",
   "metadata": {},
   "source": [
    "## Update model with webhook to recieve notifications for future failures: "
   ]
  },
  {
   "cell_type": "markdown",
   "metadata": {},
   "source": [
    "Since we already have created the schedule we give the schedule the webhook URL by updating it. Using webhooks we can get notified through the channel we desire(ex. email or Slack). "
   ]
  },
  {
   "cell_type": "markdown",
   "metadata": {},
   "source": [
    "In this case we have generated our webhook using Zapier. Documentation and examples on using Zapier are listed below.\n",
    "- Direct message on slack: https://zapier.com/apps/slack/integrations/webhook/8904/get-slack-direct-messages-for-new-webhooks\n",
    "- Emails through gmail: https://zapier.com/apps/gmail/integrations/webhook/1755/send-an-email-from-gmail-when-a-webhook-is-received\n",
    "- Emails through outlook: https://zapier.com/apps/microsoft-outlook/integrations/webhook/54203/transmit-emails-in-microsoft-outlook-with-new-received-webhooks\n",
    "\n",
    "Or see all the other integrations here: https://zapier.com/apps\n"
   ]
  },
  {
   "cell_type": "markdown",
   "metadata": {},
   "source": [
    "To be able to customize the notification sent to us through Zapier without waiting for the schedule to fail you can use this manually sent request to trigger your hook. This will give you the fields of the error message."
   ]
  },
  {
   "cell_type": "code",
   "execution_count": 21,
   "metadata": {},
   "outputs": [],
   "source": [
    "webhook = 'https://hooks.zapier.com/hooks/catch/6030178/o4t74eu/' #Insert your personal webhook here"
   ]
  },
  {
   "cell_type": "code",
   "execution_count": 22,
   "metadata": {},
   "outputs": [
    {
     "data": {
      "text/plain": [
       "<Response [200]>"
      ]
     },
     "execution_count": 22,
     "metadata": {},
     "output_type": "execute_result"
    }
   ],
   "source": [
    "requests.post(webhook, json={'scheduleName':'Name of schedule',\n",
    "                             'modelName': 'Model name', \n",
    "                             'timestamp': 'Time and date of log entry',\n",
    "                             'scheduledExecutionTime': 'Time and date of prediction to schedule',\n",
    "                             'message': 'The log message',\n",
    "                            })"
   ]
  },
  {
   "cell_type": "markdown",
   "metadata": {},
   "source": [
    "Since we already have created the schedule we give the schedule the webhook URL by updating it"
   ]
  },
  {
   "cell_type": "code",
   "execution_count": 23,
   "metadata": {},
   "outputs": [
    {
     "data": {
      "text/html": [
       "<div>\n",
       "<style scoped>\n",
       "    .dataframe tbody tr th:only-of-type {\n",
       "        vertical-align: middle;\n",
       "    }\n",
       "\n",
       "    .dataframe tbody tr th {\n",
       "        vertical-align: top;\n",
       "    }\n",
       "\n",
       "    .dataframe thead th {\n",
       "        text-align: right;\n",
       "    }\n",
       "</style>\n",
       "<table border=\"1\" class=\"dataframe\">\n",
       "  <thead>\n",
       "    <tr style=\"text-align: right;\">\n",
       "      <th></th>\n",
       "      <th>value</th>\n",
       "    </tr>\n",
       "  </thead>\n",
       "  <tbody>\n",
       "    <tr>\n",
       "      <th>name</th>\n",
       "      <td>cpr-function</td>\n",
       "    </tr>\n",
       "    <tr>\n",
       "      <th>description</th>\n",
       "      <td></td>\n",
       "    </tr>\n",
       "    <tr>\n",
       "      <th>createdTime</th>\n",
       "      <td>1573142552379</td>\n",
       "    </tr>\n",
       "    <tr>\n",
       "      <th>isDeprecated</th>\n",
       "      <td>False</td>\n",
       "    </tr>\n",
       "    <tr>\n",
       "      <th>activeVersionName</th>\n",
       "      <td>cpr-function-fixed</td>\n",
       "    </tr>\n",
       "    <tr>\n",
       "      <th>inputFields</th>\n",
       "      <td>[{'name': 'x1', 'description': '', 'type': 'TI...</td>\n",
       "    </tr>\n",
       "    <tr>\n",
       "      <th>outputFields</th>\n",
       "      <td>[{'name': 'y', 'description': '', 'type': 'TIM...</td>\n",
       "    </tr>\n",
       "    <tr>\n",
       "      <th>webhookUrl</th>\n",
       "      <td>https://hooks.zapier.com/hooks/catch/6030178/o...</td>\n",
       "    </tr>\n",
       "  </tbody>\n",
       "</table>\n",
       "</div>"
      ],
      "text/plain": [
       "<cognite.client.data_classes.model_hosting.models.Model at 0x2219a1fa3c8>"
      ]
     },
     "execution_count": 23,
     "metadata": {},
     "output_type": "execute_result"
    }
   ],
   "source": [
    "mlh.models.update_model(name=model_name, webhook_url= webhook)"
   ]
  },
  {
   "cell_type": "markdown",
   "metadata": {},
   "source": [
    "After fixing our model, we can now take a look at the output:"
   ]
  },
  {
   "cell_type": "markdown",
   "metadata": {},
   "source": [
    "## Remember to clean up after yourself by deleting your model"
   ]
  },
  {
   "cell_type": "code",
   "execution_count": 25,
   "metadata": {},
   "outputs": [],
   "source": [
    "mlh.models.delete_model(model_name)\n",
    "mlh.source_packages.delete_source_package(source_package_id)\n",
    "mlh.source_packages.delete_source_package(source_package_id_fixed)"
   ]
  }
 ],
 "metadata": {
  "kernelspec": {
   "display_name": "Python 3",
   "language": "python",
   "name": "python3"
  },
  "language_info": {
   "codemirror_mode": {
    "name": "ipython",
    "version": 3
   },
   "file_extension": ".py",
   "mimetype": "text/x-python",
   "name": "python",
   "nbconvert_exporter": "python",
   "pygments_lexer": "ipython3",
   "version": "3.7.3"
  }
 },
 "nbformat": 4,
 "nbformat_minor": 2
}