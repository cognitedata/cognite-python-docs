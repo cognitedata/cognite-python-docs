{
 "cells": [
  {
   "cell_type": "markdown",
   "metadata": {},
   "source": [
    "**Requirements**\n",
    "- You need to have the `cognite-sdk` package installed\n",
    "- The environment variable `COGNITE_API_KEY` must be set"
   ]
  },
  {
   "cell_type": "markdown",
   "metadata": {},
   "source": [
    "**IMPORTANT:** You have to run the python file \"generate_comp_data.py\" to create the time series for this tutorial"
   ]
  },
  {
   "cell_type": "code",
   "execution_count": 1,
   "metadata": {},
   "outputs": [
    {
     "name": "stderr",
     "output_type": "stream",
     "text": [
      "/usr/local/lib/python3.7/site-packages/cognite/client/_cognite_client.py:57: UserWarning: You are using version 1.0.2 of the SDK, however version 1.0.3 is available. Upgrade or set the environment variable 'COGNITE_DISABLE_PYPI_VERSION_CHECK' to suppress this warning.\n",
      "  debug=debug,\n"
     ]
    }
   ],
   "source": [
    "%matplotlib inline\n",
    "import time\n",
    "import requests\n",
    "\n",
    "from cognite.client.experimental import CogniteClient\n",
    "from cognite.model_hosting.data_spec import *\n",
    "from cognite.model_hosting.data_fetcher import DataFetcher\n",
    "\n",
    "client = CogniteClient(client_name='schedule_tutorial', project='ml-hosting-tutorial')\n",
    "mlh = client.model_hosting"
   ]
  },
  {
   "cell_type": "markdown",
   "metadata": {},
   "source": [
    "# Deploy model"
   ]
  },
  {
   "cell_type": "markdown",
   "metadata": {},
   "source": [
    "In this tutorial we will run a very simple scheduled model to demonstrate how to inspect the schedule logs for errors and how to set up notifications using webhooks. The specifics on how to make a source package, model and schedule are covered in depth in the other examples in the examples/model_hosting folder. However basic explanations will be written here."
   ]
  },
  {
   "cell_type": "markdown",
   "metadata": {},
   "source": [
    "Our model will look at the difference between two time series representing inlet pressure and outlet pressure of a compressor. We will calculate the CPR(Compressor Pressure Ration) of the compressor."
   ]
  },
  {
   "cell_type": "markdown",
   "metadata": {},
   "source": [
    "To ensure our model fails, we will make our model return the results using an incorrect format. The source package for this function can be found in the cpr folder. Later we will use the correct model, which can be found in the cprfix folder."
   ]
  },
  {
   "cell_type": "markdown",
   "metadata": {},
   "source": [
    "## 1. Create the model"
   ]
  },
  {
   "cell_type": "markdown",
   "metadata": {},
   "source": [
    "First we will create a model container to where we will deploy our model versions."
   ]
  },
  {
   "cell_type": "code",
   "execution_count": 2,
   "metadata": {
    "scrolled": false
   },
   "outputs": [
    {
     "data": {
      "text/plain": [
       "352101566590503"
      ]
     },
     "execution_count": 2,
     "metadata": {},
     "output_type": "execute_result"
    }
   ],
   "source": [
    "model_id = mlh.models.create_model(\n",
    "    name = \"cpr-function\",\n",
    "    input_fields=[{\"name\": \"x1\", \"type\": \"TIME_SERIES\"}, \n",
    "                  {\"name\": \"x2\", \"type\": \"TIME_SERIES\"}],\n",
    "    output_fields=[{\"name\": \"y\", \"type\": \"TIME_SERIES\"}],\n",
    ").id\n",
    "model_id"
   ]
  },
  {
   "cell_type": "markdown",
   "metadata": {},
   "source": [
    "## 2. Create the source package"
   ]
  },
  {
   "cell_type": "markdown",
   "metadata": {},
   "source": [
    "Then we upload our source package to the hosting environment"
   ]
  },
  {
   "cell_type": "code",
   "execution_count": 3,
   "metadata": {},
   "outputs": [
    {
     "data": {
      "text/plain": [
       "2166745660722968"
      ]
     },
     "execution_count": 3,
     "metadata": {},
     "output_type": "execute_result"
    }
   ],
   "source": [
    "source_package_id = mlh.source_packages.build_and_upload_source_package(\n",
    "    name=\"cpr\", \n",
    "    runtime_version=\"0.1\", \n",
    "    package_directory=\"cpr\"\n",
    ").id\n",
    "source_package_id"
   ]
  },
  {
   "cell_type": "markdown",
   "metadata": {},
   "source": [
    "## 3. Deploy model"
   ]
  },
  {
   "cell_type": "markdown",
   "metadata": {},
   "source": [
    "Then we deploy our function as a model version"
   ]
  },
  {
   "cell_type": "code",
   "execution_count": 4,
   "metadata": {},
   "outputs": [
    {
     "data": {
      "text/plain": [
       "1775432885075049"
      ]
     },
     "execution_count": 4,
     "metadata": {},
     "output_type": "execute_result"
    }
   ],
   "source": [
    "version_id = mlh.models.deploy_model_version(\n",
    "    model_id=model_id,\n",
    "    name=\"broken\",\n",
    "    source_package_id=source_package_id,\n",
    ").id\n",
    "version_id"
   ]
  },
  {
   "cell_type": "markdown",
   "metadata": {},
   "source": [
    "Before we proceed we need to ensure the model is deployed. This is done when the status is set to ready:"
   ]
  },
  {
   "cell_type": "code",
   "execution_count": 5,
   "metadata": {},
   "outputs": [
    {
     "name": "stdout",
     "output_type": "stream",
     "text": [
      "DEPLOYING\n",
      "DEPLOYING\n",
      "DEPLOYING\n",
      "DEPLOYING\n",
      "DEPLOYING\n",
      "DEPLOYING\n",
      "DEPLOYING\n",
      "DEPLOYING\n",
      "DEPLOYING\n",
      "DEPLOYING\n",
      "DEPLOYING\n",
      "DEPLOYING\n",
      "DEPLOYING\n",
      "DEPLOYING\n"
     ]
    },
    {
     "data": {
      "text/plain": [
       "'READY'"
      ]
     },
     "execution_count": 5,
     "metadata": {},
     "output_type": "execute_result"
    }
   ],
   "source": [
    "while mlh.models.get_model_version(model_id, version_id).status != 'READY':\n",
    "    print(mlh.models.get_model_version(model_id, version_id).status)\n",
    "    time.sleep(10)\n",
    "mlh.models.get_model_version(model_id, version_id).status"
   ]
  },
  {
   "cell_type": "markdown",
   "metadata": {},
   "source": [
    "## 4. Set up schedule"
   ]
  },
  {
   "cell_type": "markdown",
   "metadata": {},
   "source": [
    "Now we can create a schedule spec to define which data we will pass to our function and how the input data will be processed."
   ]
  },
  {
   "cell_type": "code",
   "execution_count": 6,
   "metadata": {},
   "outputs": [],
   "source": [
    "# NOTE: USE YOUR OWN TIME SERIES' HERE\n",
    "INLET_TS = 7745659361130827 # Fill in your own time series ID\n",
    "OUTLET_TS = 3858116425734079 # Fill in your own time series ID\n",
    "CPR_TS = 3582175593496308  # Fill in your own time series ID\n",
    "\n",
    "schedule_data_spec = ScheduleDataSpec(\n",
    "    input=ScheduleInputSpec(\n",
    "        time_series={\n",
    "            \"x1\": ScheduleInputTimeSeriesSpec(\n",
    "                id=INLET_TS, \n",
    "                aggregate=\"average\", \n",
    "                granularity=\"10s\"\n",
    "            ),\n",
    "            \"x2\": ScheduleInputTimeSeriesSpec(\n",
    "                id=OUTLET_TS, \n",
    "                aggregate=\"average\", \n",
    "                granularity=\"10s\")\n",
    "        }\n",
    "    ),\n",
    "    output=ScheduleOutputSpec(\n",
    "        time_series={\n",
    "            \"y\": ScheduleOutputTimeSeriesSpec(\n",
    "                id=CPR_TS\n",
    "            )\n",
    "        }\n",
    "    ),\n",
    "    start=\"now\",\n",
    "    stride=\"1m\",\n",
    "    window_size=\"1m\",\n",
    "    slack=\"5m\",\n",
    ")"
   ]
  },
  {
   "cell_type": "markdown",
   "metadata": {},
   "source": [
    "Now we can start running the schedule"
   ]
  },
  {
   "cell_type": "code",
   "execution_count": 7,
   "metadata": {},
   "outputs": [
    {
     "data": {
      "text/plain": [
       "6774966394560073"
      ]
     },
     "execution_count": 7,
     "metadata": {},
     "output_type": "execute_result"
    }
   ],
   "source": [
    "schedule_id = mlh.schedules.create_schedule(\n",
    "    model_id=model_id,\n",
    "    name=\"schedule-inspection-tutorial\",\n",
    "    schedule_data_spec=schedule_data_spec,\n",
    "    description=\"CPR of 1stgcomp at Valhall\"\n",
    ").id\n",
    "schedule_id"
   ]
  },
  {
   "cell_type": "markdown",
   "metadata": {},
   "source": [
    "The CPR time series is now being updated every minute."
   ]
  },
  {
   "cell_type": "markdown",
   "metadata": {},
   "source": [
    "# Troubleshoot"
   ]
  },
  {
   "cell_type": "markdown",
   "metadata": {},
   "source": [
    "## Retrive and inspect schedule logs:"
   ]
  },
  {
   "cell_type": "markdown",
   "metadata": {},
   "source": [
    "Now let's inspect the schedule logs to see how it's going. "
   ]
  },
  {
   "cell_type": "code",
   "execution_count": 12,
   "metadata": {
    "scrolled": false
   },
   "outputs": [
    {
     "data": {
      "text/plain": [
       "[{\n",
       "     \"timestamp\": \"2019-07-31 08:11:40\",\n",
       "     \"scheduled_execution_time\": \"2019-07-31 08:11:38\",\n",
       "     \"message\": \"Uncaught exception in the user code:\\nTraceback (most recent call last):\\n  File \\\"/tmp/custom_lib/ml_engine_base/base.py\\\", line 72, in _do_predict\\n    return self._predict(instance=instance, **args)\\n  File \\\"/tmp/custom_lib/cpr/model.py\\\", line 15, in predict\\n    return to_output(df.size)\\n  File \\\"/tmp/custom_lib/cognite/model_hosting/schedules/schedules.py\\\", line 44, in to_output\\n    raise TypeError(\\\"dataframe should be a pandas DataFrame or list of pandas DataFrames\\\")\\nTypeError: dataframe should be a pandas DataFrame or list of pandas DataFrames\\n\"\n",
       " }, {\n",
       "     \"timestamp\": \"2019-07-31 08:11:40\",\n",
       "     \"scheduled_execution_time\": \"2019-07-31 08:11:38\",\n",
       "     \"message\": \"Uncaught exception in the user code:\\nTraceback (most recent call last):\\n  File \\\"/tmp/custom_lib/ml_engine_base/base.py\\\", line 72, in _do_predict\\n    return self._predict(instance=instance, **args)\\n  File \\\"/tmp/custom_lib/cpr/model.py\\\", line 15, in predict\\n    return to_output(df.size)\\n  File \\\"/tmp/custom_lib/cognite/model_hosting/schedules/schedules.py\\\", line 44, in to_output\\n    raise TypeError(\\\"dataframe should be a pandas DataFrame or list of pandas DataFrames\\\")\\nTypeError: dataframe should be a pandas DataFrame or list of pandas DataFrames\\n\"\n",
       " }, {\n",
       "     \"timestamp\": \"2019-07-31 08:11:41\",\n",
       "     \"scheduled_execution_time\": \"2019-07-31 08:11:38\",\n",
       "     \"message\": \"Uncaught exception in the user code:\\nTraceback (most recent call last):\\n  File \\\"/tmp/custom_lib/ml_engine_base/base.py\\\", line 72, in _do_predict\\n    return self._predict(instance=instance, **args)\\n  File \\\"/tmp/custom_lib/cpr/model.py\\\", line 15, in predict\\n    return to_output(df.size)\\n  File \\\"/tmp/custom_lib/cognite/model_hosting/schedules/schedules.py\\\", line 44, in to_output\\n    raise TypeError(\\\"dataframe should be a pandas DataFrame or list of pandas DataFrames\\\")\\nTypeError: dataframe should be a pandas DataFrame or list of pandas DataFrames\\n\"\n",
       " }]"
      ]
     },
     "execution_count": 12,
     "metadata": {},
     "output_type": "execute_result"
    }
   ],
   "source": [
    "while len(mlh.schedules.get_log(schedule_id).dump()['failed'])<3:\n",
    "    time.sleep(5)\n",
    "mlh.schedules.get_log(schedule_id).dump()['failed'][0:3]"
   ]
  },
  {
   "cell_type": "markdown",
   "metadata": {},
   "source": [
    "As we see the schedule is failing. Now you would change the predict funtion in the CPR module. However to keep this tutorial usable without changing the functions we create a new source package from the folder \"cprfix\"."
   ]
  },
  {
   "cell_type": "code",
   "execution_count": 13,
   "metadata": {},
   "outputs": [],
   "source": [
    "source_package_id_fixed = mlh.source_packages.build_and_upload_source_package(\n",
    "    name=\"cpr-fix\", \n",
    "    runtime_version=\"0.1\", \n",
    "    package_directory=\"cprfix\"\n",
    ").id"
   ]
  },
  {
   "cell_type": "code",
   "execution_count": 15,
   "metadata": {},
   "outputs": [],
   "source": [
    "version_id_fixed = mlh.models.deploy_model_version(\n",
    "    model_id=model_id,\n",
    "    name=\"cpr-function-fixed\",\n",
    "    source_package_id=source_package_id_fixed,\n",
    ").id"
   ]
  },
  {
   "cell_type": "code",
   "execution_count": 16,
   "metadata": {},
   "outputs": [
    {
     "name": "stdout",
     "output_type": "stream",
     "text": [
      "DEPLOYING\n",
      "DEPLOYING\n",
      "DEPLOYING\n",
      "DEPLOYING\n",
      "DEPLOYING\n",
      "DEPLOYING\n",
      "DEPLOYING\n",
      "DEPLOYING\n",
      "DEPLOYING\n"
     ]
    },
    {
     "data": {
      "text/plain": [
       "'READY'"
      ]
     },
     "execution_count": 16,
     "metadata": {},
     "output_type": "execute_result"
    }
   ],
   "source": [
    "while mlh.models.get_model_version(model_id, version_id_fixed).status != 'READY':\n",
    "    print(mlh.models.get_model_version(model_id, version_id_fixed).status)\n",
    "    time.sleep(10)\n",
    "mlh.models.get_model_version(model_id, version_id_fixed).status"
   ]
  },
  {
   "cell_type": "markdown",
   "metadata": {},
   "source": [
    "We now need to update the model to use the new source package"
   ]
  },
  {
   "cell_type": "code",
   "execution_count": 17,
   "metadata": {},
   "outputs": [
    {
     "data": {
      "text/plain": [
       "{\n",
       "    \"id\": 352101566590503,\n",
       "    \"name\": \"cpr-function\",\n",
       "    \"project\": \"ml-hosting-tutorial\",\n",
       "    \"description\": \"\",\n",
       "    \"created_time\": \"2019-07-31 08:08:35\",\n",
       "    \"metadata\": {},\n",
       "    \"is_deprecated\": false,\n",
       "    \"active_version_id\": 2358736118741731,\n",
       "    \"input_fields\": [\n",
       "        {\n",
       "            \"description\": \"\",\n",
       "            \"name\": \"x1\",\n",
       "            \"type\": \"TIME_SERIES\"\n",
       "        },\n",
       "        {\n",
       "            \"description\": \"\",\n",
       "            \"name\": \"x2\",\n",
       "            \"type\": \"TIME_SERIES\"\n",
       "        }\n",
       "    ],\n",
       "    \"output_fields\": [\n",
       "        {\n",
       "            \"description\": \"\",\n",
       "            \"name\": \"y\",\n",
       "            \"type\": \"TIME_SERIES\"\n",
       "        }\n",
       "    ]\n",
       "}"
      ]
     },
     "execution_count": 17,
     "metadata": {},
     "output_type": "execute_result"
    }
   ],
   "source": [
    "mlh.models.update_model(id=model_id, active_version_id=version_id_fixed)"
   ]
  },
  {
   "cell_type": "markdown",
   "metadata": {},
   "source": [
    "The schedule will now automatically use the new source package. We can ensure this is working by inspecting the latest schedule log. You can now see that there are new entries to the completed section. "
   ]
  },
  {
   "cell_type": "code",
   "execution_count": 18,
   "metadata": {},
   "outputs": [
    {
     "data": {
      "text/plain": [
       "[{\n",
       "     \"timestamp\": \"2019-07-31 08:30:07\",\n",
       "     \"scheduled_execution_time\": \"2019-07-31 08:25:38\",\n",
       "     \"message\": \"Succesfully completed scheduled prediction\"\n",
       " }, {\n",
       "     \"timestamp\": \"2019-07-31 08:31:04\",\n",
       "     \"scheduled_execution_time\": \"2019-07-31 08:26:38\",\n",
       "     \"message\": \"Succesfully completed scheduled prediction\"\n",
       " }, {\n",
       "     \"timestamp\": \"2019-07-31 08:32:06\",\n",
       "     \"scheduled_execution_time\": \"2019-07-31 08:27:38\",\n",
       "     \"message\": \"Succesfully completed scheduled prediction\"\n",
       " }]"
      ]
     },
     "execution_count": 18,
     "metadata": {},
     "output_type": "execute_result"
    }
   ],
   "source": [
    "while len(mlh.schedules.get_log(schedule_id).dump()['completed'])<3:\n",
    "    time.sleep(5)\n",
    "mlh.schedules.get_log(schedule_id).dump()['completed'][0:3]"
   ]
  },
  {
   "cell_type": "markdown",
   "metadata": {},
   "source": [
    "We now see that the schedule is running without problems. We can now plot the compressor pressure ratio."
   ]
  },
  {
   "cell_type": "code",
   "execution_count": 19,
   "metadata": {},
   "outputs": [
    {
     "data": {
      "text/plain": [
       "<matplotlib.axes._subplots.AxesSubplot at 0x11ccd6d68>"
      ]
     },
     "execution_count": 19,
     "metadata": {},
     "output_type": "execute_result"
    },
    {
     "data": {
      "image/png": "[encoded data removed]",
      "text/plain": [
       "<Figure size 432x288 with 1 Axes>"
      ]
     },
     "metadata": {
      "needs_background": "light"
     },
     "output_type": "display_data"
    },
    {
     "data": {
      "image/png": "[encoded data removed]",
      "text/plain": [
       "<Figure size 432x288 with 1 Axes>"
      ]
     },
     "metadata": {
      "needs_background": "light"
     },
     "output_type": "display_data"
    }
   ],
   "source": [
    "ds = DataSpec(\n",
    "    time_series={\n",
    "        \"inlet_pressure\": TimeSeriesSpec(\n",
    "            id=INLET_TS, \n",
    "            aggregate=\"average\", \n",
    "            granularity=\"10s\", \n",
    "            start=\"5m-ago\", \n",
    "            end=\"now\"\n",
    "        ),\n",
    "        \"outlet_pressure\": TimeSeriesSpec(\n",
    "            id=OUTLET_TS, \n",
    "            aggregate=\"average\", \n",
    "            granularity=\"10s\", \n",
    "            start=\"5m-ago\", \n",
    "            end=\"now\"\n",
    "        ),\n",
    "        \"cpr\": TimeSeriesSpec(\n",
    "            id=CPR_TS, \n",
    "            aggregate=\"average\", \n",
    "            granularity=\"10s\", \n",
    "            start=\"5m-ago\", \n",
    "            end=\"now\"\n",
    "        )\n",
    "})\n",
    "\n",
    "df = DataFetcher(ds).time_series.fetch_dataframe([\"inlet_pressure\", \"outlet_pressure\", \"cpr\"])\n",
    "df.plot(x='timestamp', y=['inlet_pressure','outlet_pressure'])\n",
    "df.plot(x='timestamp', y='cpr')"
   ]
  },
  {
   "cell_type": "markdown",
   "metadata": {},
   "source": [
    "## Update model with webhook to recieve notifications for future failures: "
   ]
  },
  {
   "cell_type": "markdown",
   "metadata": {},
   "source": [
    "Since we already have created the schedule we give the schedule the webhook URL by updating it. Using webhooks we can get notified through the channel we desire(ex. email or Slack). "
   ]
  },
  {
   "cell_type": "markdown",
   "metadata": {},
   "source": [
    "In this case we have generated our webhook using Zapier. Documentation and examples on using Zapier are listed below.\n",
    "- Direct message on slack: https://zapier.com/apps/slack/integrations/webhook/8904/get-slack-direct-messages-for-new-webhooks\n",
    "- Emails through gmail: https://zapier.com/apps/gmail/integrations/webhook/1755/send-an-email-from-gmail-when-a-webhook-is-received\n",
    "- Emails through outlook: https://zapier.com/apps/microsoft-outlook/integrations/webhook/54203/transmit-emails-in-microsoft-outlook-with-new-received-webhooks\n",
    "\n",
    "Or see all the other integrations here: https://zapier.com/apps\n"
   ]
  },
  {
   "cell_type": "markdown",
   "metadata": {},
   "source": [
    "To be able to customize the notification sent to us through Zapier without waiting for the schedule to fail you can use this manually sent request to trigger your hook. This will give you the fields of the error message."
   ]
  },
  {
   "cell_type": "code",
   "execution_count": 20,
   "metadata": {},
   "outputs": [],
   "source": [
    "webhook = 'https://hooks.zapier.com/hooks/catch/5359874/ooe97j6/' #Insert your personal webhook here"
   ]
  },
  {
   "cell_type": "code",
   "execution_count": 21,
   "metadata": {},
   "outputs": [
    {
     "data": {
      "text/plain": [
       "<Response [200]>"
      ]
     },
     "execution_count": 21,
     "metadata": {},
     "output_type": "execute_result"
    }
   ],
   "source": [
    "requests.post(webhook, json={'scheduleId': 'Schedule ID',\n",
    "                             'scheduleName':'Name of schedule',\n",
    "                             'modelId': 'Model ID integer',\n",
    "                             'modelName': 'Model name', \n",
    "                             'timestamp': 'Time and date of log entry',\n",
    "                             'scheduledExecutionTime': 'Time and date of prediction to schedule',\n",
    "                             'message': 'The log message',\n",
    "                            })"
   ]
  },
  {
   "cell_type": "markdown",
   "metadata": {},
   "source": [
    "Since we already have created the schedule we give the schedule the webhook URL by updating it"
   ]
  },
  {
   "cell_type": "code",
   "execution_count": 22,
   "metadata": {},
   "outputs": [
    {
     "data": {
      "text/plain": [
       "{\n",
       "    \"id\": 352101566590503,\n",
       "    \"name\": \"cpr-function\",\n",
       "    \"project\": \"ml-hosting-tutorial\",\n",
       "    \"description\": \"\",\n",
       "    \"created_time\": \"2019-07-31 08:08:35\",\n",
       "    \"metadata\": {},\n",
       "    \"is_deprecated\": false,\n",
       "    \"active_version_id\": 2358736118741731,\n",
       "    \"input_fields\": [\n",
       "        {\n",
       "            \"description\": \"\",\n",
       "            \"name\": \"x1\",\n",
       "            \"type\": \"TIME_SERIES\"\n",
       "        },\n",
       "        {\n",
       "            \"description\": \"\",\n",
       "            \"name\": \"x2\",\n",
       "            \"type\": \"TIME_SERIES\"\n",
       "        }\n",
       "    ],\n",
       "    \"output_fields\": [\n",
       "        {\n",
       "            \"description\": \"\",\n",
       "            \"name\": \"y\",\n",
       "            \"type\": \"TIME_SERIES\"\n",
       "        }\n",
       "    ],\n",
       "    \"webhook_url\": \"https://hooks.zapier.com/hooks/catch/5359874/ooe97j6/\"\n",
       "}"
      ]
     },
     "execution_count": 22,
     "metadata": {},
     "output_type": "execute_result"
    }
   ],
   "source": [
    "mlh.models.update_model(id=model_id, webhook_url= webhook)"
   ]
  },
  {
   "cell_type": "markdown",
   "metadata": {},
   "source": [
    "After fixing our model, we can now take a look at the output:"
   ]
  },
  {
   "cell_type": "markdown",
   "metadata": {},
   "source": [
    "## Remember to clean up after yourself by deleting your model"
   ]
  },
  {
   "cell_type": "code",
   "execution_count": 23,
   "metadata": {},
   "outputs": [],
   "source": [
    "mlh.models.delete_model(model_id)\n",
    "mlh.source_packages.delete_source_package(source_package_id)\n",
    "mlh.source_packages.delete_source_package(source_package_id_fixed)"
   ]
  }
 ],
 "metadata": {
  "kernelspec": {
   "display_name": "Python 3",
   "language": "python",
   "name": "python3"
  },
  "language_info": {
   "codemirror_mode": {
    "name": "ipython",
    "version": 3
   },
   "file_extension": ".py",
   "mimetype": "text/x-python",
   "name": "python",
   "nbconvert_exporter": "python",
   "pygments_lexer": "ipython3",
   "version": "3.7.3"
  }
 },
 "nbformat": 4,
 "nbformat_minor": 2
}
