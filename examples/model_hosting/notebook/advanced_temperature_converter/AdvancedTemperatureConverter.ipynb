{
 "cells": [
  {
   "cell_type": "markdown",
   "metadata": {},
   "source": [
    "# Introduction\n",
    "\n",
    "In this tutorial we will deploy a more advanced version of the temperature converter we created in the \"Simple Temperature Converter tutorial\". It will support arbitrary conversion between Celsius, Fahrenheit and Kelvin of arrays of temperature values. Of course, having a model for such a simple task would usually be overkill, but it's a nice example. Deploying a notebook is great for simple models and trying out things. For more complex models with a lot of code and many dependencies you should consider creating a proper source package.\n",
    "\n",
    "**Requirements**:\n",
    "- You need to have the `cognite-model-hosting-notebook` package installed\n",
    "- The environment variable `COGNITE_API_KEY` should be set"
   ]
  },
  {
   "cell_type": "markdown",
   "metadata": {},
   "source": [
    "# Defining our model\n",
    "\n",
    "First off we need to define our dependencies. This is simply achieved by creating a code cell that start with `# !requirements`. Our model will use `numpy` for calculations on arrays of numbers, so we'll be sure to add that. It's always good practice to be specific of the version of the package to avoid breaking changes in the future."
   ]
  },
  {
   "cell_type": "code",
   "execution_count": 1,
   "metadata": {},
   "outputs": [],
   "source": [
    "# !requirements\n",
    "# numpy==1.16.2"
   ]
  },
  {
   "cell_type": "markdown",
   "metadata": {},
   "source": [
    "Then we need to specify the code the prediction routine of our model will run."
   ]
  },
  {
   "cell_type": "code",
   "execution_count": 2,
   "metadata": {},
   "outputs": [],
   "source": [
    "# !model\n",
    "import numpy as np"
   ]
  },
  {
   "cell_type": "code",
   "execution_count": 3,
   "metadata": {},
   "outputs": [],
   "source": [
    "# !model\n",
    "def celsius_to_kelvin(t):\n",
    "    return t + 273.15\n",
    "\n",
    "def fahrenheit_to_kelvin(t):\n",
    "    return (t + 459.67) * (5/9)\n",
    "\n",
    "def kelvin_to_celsius(t):\n",
    "    return t - 273.15\n",
    "\n",
    "def kelvin_to_fahrenheit(t):\n",
    "    return t * (9/5) - 459.67\n",
    "\n",
    "def to_kelvin(t, from_scale):\n",
    "    if from_scale == \"K\":\n",
    "        return t\n",
    "    elif from_scale == \"C\":\n",
    "        return celsius_to_kelvin(t)\n",
    "    elif from_scale == \"F\":\n",
    "        return fahrenheit_to_kelvin(t)\n",
    "    else:\n",
    "        raise AssertionError(\"Don't recognize temperature scale `{}`\".format(from_scale))\n",
    "\n",
    "def from_kelvin(t, to_scale):\n",
    "    if to_scale == \"K\":\n",
    "        return t\n",
    "    elif to_scale == \"C\":\n",
    "        return kelvin_to_celsius(t)\n",
    "    elif to_scale == \"F\":\n",
    "        return kelvin_to_fahrenheit(t)\n",
    "    else:\n",
    "        raise AssertionError(\"Don't recognize temperature scale `{}`\".format(to_scale))"
   ]
  },
  {
   "cell_type": "code",
   "execution_count": 4,
   "metadata": {},
   "outputs": [],
   "source": [
    "# !model\n",
    "def predict(instance, from_scale, to_scale):\n",
    "    t = np.array(instance)\n",
    "    \n",
    "    t = to_kelvin(t, from_scale)\n",
    "    t = from_kelvin(t, to_scale)\n",
    "    \n",
    "    return t.tolist() # The returned value must be JSON serializable"
   ]
  },
  {
   "cell_type": "markdown",
   "metadata": {},
   "source": [
    "Notice that we start each cell with `# !model`. This means this code will be included in our model. The next cells below will only be for local execution, and are not supposed to be executed in Model Hosting. And thus do not start with `# !model`. For our model to work with Model Hosting we have to define a `predict()` function. It's first parameter must be `instance` - the entity on which to perform prediction on. After that we may define our own parameters. We can of course also define other functions (and classes, etc) to help us do the prediction as we have done above.\n",
    "\n",
    "Okay, now we have defined our model. Let's try it out locally before we deploy it to Model Hosting."
   ]
  },
  {
   "cell_type": "code",
   "execution_count": 5,
   "metadata": {},
   "outputs": [
    {
     "data": {
      "text/plain": [
       "[21.1111111111112, 26.666666666666742, 32.222222222222285]"
      ]
     },
     "execution_count": 5,
     "metadata": {},
     "output_type": "execute_result"
    }
   ],
   "source": [
    "predict([70, 80, 90], from_scale=\"F\", to_scale=\"C\")"
   ]
  },
  {
   "cell_type": "code",
   "execution_count": 6,
   "metadata": {},
   "outputs": [
    {
     "data": {
      "text/plain": [
       "[31.999999999999943, 13.999999999999943, 49.99999999999994]"
      ]
     },
     "execution_count": 6,
     "metadata": {},
     "output_type": "execute_result"
    }
   ],
   "source": [
    "predict([0, -10, 10], from_scale=\"C\", to_scale=\"F\")"
   ]
  },
  {
   "cell_type": "code",
   "execution_count": 7,
   "metadata": {},
   "outputs": [
    {
     "data": {
      "text/plain": [
       "[0.0, 100.0, 26.850000000000023]"
      ]
     },
     "execution_count": 7,
     "metadata": {},
     "output_type": "execute_result"
    }
   ],
   "source": [
    "predict([273.15, 373.15, 300], from_scale=\"K\", to_scale=\"C\")"
   ]
  },
  {
   "cell_type": "markdown",
   "metadata": {},
   "source": [
    "Seems to be working nicely!"
   ]
  },
  {
   "cell_type": "markdown",
   "metadata": {},
   "source": [
    "# Deploying our model\n",
    "\n",
    "It's time to deploy our model. Let's first import what we need."
   ]
  },
  {
   "cell_type": "code",
   "execution_count": 8,
   "metadata": {},
   "outputs": [],
   "source": [
    "from cognite.client.experimental import CogniteClient\n",
    "from cognite.model_hosting.notebook import deploy_model_version\n",
    "\n",
    "model_hosting = CogniteClient().model_hosting"
   ]
  },
  {
   "cell_type": "markdown",
   "metadata": {},
   "source": [
    "To deploy a model version we first need a model."
   ]
  },
  {
   "cell_type": "code",
   "execution_count": 9,
   "metadata": {},
   "outputs": [],
   "source": [
    "model_name = \"temperature-converter\"\n",
    "model_hosting.models.create_model(model_name)"
   ]
  },
  {
   "cell_type": "markdown",
   "metadata": {},
   "source": [
    "And then we deploy this notebook as a model version. It's important you **save the notebook** before doing this since the notebook file will be read to find your model."
   ]
  },
  {
   "cell_type": "code",
   "execution_count": 10,
   "metadata": {},
   "outputs": [],
   "source": [
    "model_version_name = \"temperature-converter-v1\"\n",
    "deploy_model_version(\n",
    "    model_name=model_name,\n",
    "    version_name=model_version_name,\n",
    "    runtime_version=\"0.1\"\n",
    ")"
   ]
  },
  {
   "cell_type": "markdown",
   "metadata": {},
   "source": [
    "Now we just have to wait for the deployment to finish. This usually takes a few minutes. Notice that the next step won't work before the status of the model version is 'READY'."
   ]
  },
  {
   "cell_type": "code",
   "execution_count": 11,
   "metadata": {},
   "outputs": [
    {
     "data": {
      "text/plain": [
       "'READY'"
      ]
     },
     "execution_count": 11,
     "metadata": {},
     "output_type": "execute_result"
    }
   ],
   "source": [
    "model_hosting.versions.get_model_version(model_name, model_version_name).status"
   ]
  },
  {
   "cell_type": "markdown",
   "metadata": {},
   "source": [
    "# Testing the model\n",
    "\n",
    "Now that it's deployed we can test it out."
   ]
  },
  {
   "cell_type": "code",
   "execution_count": 12,
   "metadata": {},
   "outputs": [
    {
     "data": {
      "text/plain": [
       "[[31.999999999999943, 13.999999999999943, 49.99999999999994],\n",
       " [-58.00000000000006, 211.99999999999994]]"
      ]
     },
     "execution_count": 12,
     "metadata": {},
     "output_type": "execute_result"
    }
   ],
   "source": [
    "model_hosting.models.online_predict(\n",
    "    model_name,\n",
    "    model_version_name,\n",
    "    instances=[[0, -10, 10], [-50, 100]],\n",
    "    args={\"from_scale\": \"C\", \"to_scale\": \"F\"}\n",
    ")"
   ]
  },
  {
   "cell_type": "markdown",
   "metadata": {},
   "source": [
    "It's important to note that these predictions were performed in Cognite Model Hosting in the cloud, not on your computer. Anyone with internet (and appropriate access rights) can now access this model!"
   ]
  },
  {
   "cell_type": "markdown",
   "metadata": {},
   "source": [
    "When you're done - remember to clean up after yourself:"
   ]
  },
  {
   "cell_type": "code",
   "execution_count": 13,
   "metadata": {},
   "outputs": [],
   "source": [
    "source_package_id = model_hosting.versions.get_model_version(model_name, model_version_name).source_package_id\n",
    "model_hosting.models.delete_model(model_name)\n",
    "model_hosting.source_packages.delete_source_package(source_package_id)"
   ]
  }
 ],
 "metadata": {
  "kernelspec": {
   "display_name": "Python 3",
   "language": "python",
   "name": "python3"
  },
  "language_info": {
   "codemirror_mode": {
    "name": "ipython",
    "version": 3
   },
   "file_extension": ".py",
   "mimetype": "text/x-python",
   "name": "python",
   "nbconvert_exporter": "python",
   "pygments_lexer": "ipython3",
   "version": "3.7.3"
  }
 },
 "nbformat": 4,
 "nbformat_minor": 2
}