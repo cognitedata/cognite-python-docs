{
 "cells": [
  {
   "cell_type": "markdown",
   "metadata": {},
   "source": [
    "# Introduction\n",
    "\n",
    "In this tutorial we will deploy a simplest possible model to Cognite Model Hosting from a notebook. A model that convert from fahrenheit to celcius. Of course, having a model for such a simple task would usually be overkill, but it's a nice example. Deploying a notebook is great for simple models and trying out things. For more complex models with a lot of code and many dependencies you should consider creating a proper source package.\n",
    "\n",
    "**Requirements**:\n",
    "- You need to have the `cognite-model-hosting-notebook` package installed\n",
    "- The environment variables `COGNITE_API_KEY` and `COGNITE_CLIENT_NAME` should be set"
   ]
  },
  {
   "cell_type": "markdown",
   "metadata": {},
   "source": [
    "# Defining our model\n",
    "\n",
    "First off we need to define our dependencies. This is simply achieved by creating a code cell that start with `# !requirements`. Since we have no dependencies we'll leave the rest of the cell empty."
   ]
  },
  {
   "cell_type": "code",
   "execution_count": 1,
   "metadata": {},
   "outputs": [],
   "source": [
    "# !requirements"
   ]
  },
  {
   "cell_type": "markdown",
   "metadata": {},
   "source": [
    "Then we need to specify the code the prediction routine of our model will run."
   ]
  },
  {
   "cell_type": "code",
   "execution_count": 2,
   "metadata": {},
   "outputs": [],
   "source": [
    "# !model\n",
    "def predict(instance):\n",
    "    return (instance - 32) * (5/9)"
   ]
  },
  {
   "cell_type": "markdown",
   "metadata": {},
   "source": [
    "Notice that we start the cell with `# !model`. This way we say that this code should be included in our model. The next cells below will only be for local execution, and are not supposed to be run in Model Hosting. And thus do not start with `# !model`.\n",
    "\n",
    "Okay, now we have defined our model. Let's try it out locally before we deploy it to Model Hosting."
   ]
  },
  {
   "cell_type": "code",
   "execution_count": 3,
   "metadata": {},
   "outputs": [
    {
     "data": {
      "text/plain": [
       "21.11111111111111"
      ]
     },
     "execution_count": 3,
     "metadata": {},
     "output_type": "execute_result"
    }
   ],
   "source": [
    "predict(70)"
   ]
  },
  {
   "cell_type": "markdown",
   "metadata": {},
   "source": [
    "Seems to be working nicely!"
   ]
  },
  {
   "cell_type": "markdown",
   "metadata": {},
   "source": [
    "# Deploying our model\n",
    "\n",
    "It's time to deploy our model. Let's first import what we need."
   ]
  },
  {
   "cell_type": "code",
   "execution_count": 4,
   "metadata": {},
   "outputs": [],
   "source": [
    "from cognite.client.experimental import CogniteClient\n",
    "from cognite.model_hosting.notebook import deploy_model_version\n",
    "\n",
    "model_hosting = CogniteClient().model_hosting"
   ]
  },
  {
   "cell_type": "markdown",
   "metadata": {},
   "source": [
    "To deploy a model version we first create a model and retrieve its id."
   ]
  },
  {
   "cell_type": "code",
   "execution_count": 5,
   "metadata": {},
   "outputs": [],
   "source": [
    "model_name = \"fahrenheit-to-celsius\"\n",
    "model_hosting.models.create_model(model_name)"
   ]
  },
  {
   "cell_type": "markdown",
   "metadata": {},
   "source": [
    "And then we deploy this notebook as a model version. It's important you **save the notebook** before doing this since the notebook file will be read to find your model."
   ]
  },
  {
   "cell_type": "code",
   "execution_count": 6,
   "metadata": {},
   "outputs": [],
   "source": [
    "model_version_name = \"fahrenheit-celsius-v1\"\n",
    "deploy_model_version(\n",
    "    model_name=model_name,\n",
    "    version_name=model_version_name,\n",
    "    runtime_version=\"0.1\"\n",
    ")"
   ]
  },
  {
   "cell_type": "markdown",
   "metadata": {},
   "source": [
    "Now we just have to wait for the deployment to finish. This usually takes a few minutes. Notice that the next step won't work before the status of the model version is 'READY'."
   ]
  },
  {
   "cell_type": "code",
   "execution_count": 7,
   "metadata": {},
   "outputs": [
    {
     "data": {
      "text/plain": [
       "'READY'"
      ]
     },
     "execution_count": 7,
     "metadata": {},
     "output_type": "execute_result"
    }
   ],
   "source": [
    "model_hosting.versions.get_model_version(model_name, model_version_name).status"
   ]
  },
  {
   "cell_type": "markdown",
   "metadata": {},
   "source": [
    "# Testing the model\n",
    "\n",
    "Now that it's deployed we can test it out."
   ]
  },
  {
   "cell_type": "code",
   "execution_count": 8,
   "metadata": {},
   "outputs": [
    {
     "data": {
      "text/plain": [
       "[21.11111111111111, 26.666666666666668, 32.22222222222222]"
      ]
     },
     "execution_count": 8,
     "metadata": {},
     "output_type": "execute_result"
    }
   ],
   "source": [
    "model_hosting.models.online_predict(model_name, model_version_name, instances=[70, 80, 90])"
   ]
  },
  {
   "cell_type": "markdown",
   "metadata": {},
   "source": [
    "It's important to note that these predictions were performed in Cognite Model Hosting in the cloud, not on your computer. Anyone with internet (and appropriate access rights) can now access this model!"
   ]
  },
  {
   "cell_type": "markdown",
   "metadata": {},
   "source": [
    "When you're done - remember to clean up after yourself:"
   ]
  },
  {
   "cell_type": "code",
   "execution_count": 9,
   "metadata": {},
   "outputs": [],
   "source": [
    "source_package_id = model_hosting.versions.get_model_version(model_name, model_version_name).source_package_id\n",
    "model_hosting.models.delete_model(model_name)\n",
    "model_hosting.source_packages.delete_source_package(source_package_id)"
   ]
  }
 ],
 "metadata": {
  "kernelspec": {
   "display_name": "Python 3",
   "language": "python",
   "name": "python3"
  },
  "language_info": {
   "codemirror_mode": {
    "name": "ipython",
    "version": 3
   },
   "file_extension": ".py",
   "mimetype": "text/x-python",
   "name": "python",
   "nbconvert_exporter": "python",
   "pygments_lexer": "ipython3",
   "version": "3.7.3"
  }
 },
 "nbformat": 4,
 "nbformat_minor": 2
}
