{
 "cells": [
  {
   "cell_type": "markdown",
   "metadata": {},
   "source": [
    "# Introduction\n",
    "\n",
    "In this tutorial we create a simple model that find the average of two time series and schedule this to output to a third time series. All from within a notebook! This is of course overkill for such a simple task, but is nice and simple for an example.\n",
    "\n",
    "**Requirements**:\n",
    "- You need to have the `cognite-model-hosting-notebook` package installed\n",
    "- The environment variable `COGNITE_API_KEY` should be set"
   ]
  },
  {
   "cell_type": "markdown",
   "metadata": {},
   "source": [
    "# Data\n",
    "\n",
    "You can use your own data or you can generate some fake data by running the `generate_data.py` script."
   ]
  },
  {
   "cell_type": "code",
   "execution_count": 1,
   "metadata": {},
   "outputs": [],
   "source": [
    "# The ids of the time series we will use\n",
    "# NOTE: USE YOUR OWN TIME SERIES OR THOSE YOU GET FROM generate_data.py\n",
    "ts_ids = {\n",
    "    'x': 3743681825083213,\n",
    "    'y': 1858410693296919,\n",
    "    'mean_x_y': 4842433315107417,\n",
    "}"
   ]
  },
  {
   "cell_type": "markdown",
   "metadata": {},
   "source": [
    "Let's take a quick look on the last two hours"
   ]
  },
  {
   "cell_type": "code",
   "execution_count": 2,
   "metadata": {},
   "outputs": [
    {
     "data": {
      "text/plain": [
       "<matplotlib.axes._subplots.AxesSubplot at 0x11e3f7278>"
      ]
     },
     "execution_count": 2,
     "metadata": {},
     "output_type": "execute_result"
    }
   ],
   "source": [
    "from cognite.model_hosting.data_fetcher import DataFetcher\n",
    "from cognite.model_hosting.data_spec import DataSpec, TimeSeriesSpec\n",
    "\n",
    "example_data_spec = DataSpec(time_series={\n",
    "    \"x\": TimeSeriesSpec(\n",
    "        id=ts_ids[\"x\"],\n",
    "        start=\"2h-ago\",\n",
    "        end=\"now\",\n",
    "        aggregate=\"interpolation\",\n",
    "        granularity=\"1s\"\n",
    "    ),\n",
    "    \"y\": TimeSeriesSpec(\n",
    "        id=ts_ids[\"y\"],\n",
    "        start=\"2h-ago\",\n",
    "        end=\"now\",\n",
    "        aggregate=\"interpolation\",\n",
    "        granularity=\"1s\"\n",
    "    ),\n",
    "})\n",
    "\n",
    "DataFetcher(example_data_spec).time_series.fetch_dataframe([\"x\", \"y\"]).plot(x=\"timestamp\")"
   ]
  },
  {
   "cell_type": "markdown",
   "metadata": {},
   "source": [
    "# Defining our model\n",
    "\n",
    "First off we need to define our dependencies. This is simply achieved by creating a code cell that start with `# !requirements`. Our model will use `numpy` for calculations on arrays of numbers, so we'll be sure to add that. It's always good practice to be specific of the version of the package to avoid breaking changes in the future."
   ]
  },
  {
   "cell_type": "code",
   "execution_count": 3,
   "metadata": {},
   "outputs": [],
   "source": [
    "# !requirements\n",
    "# cognite-model-hosting==0.1.0\n",
    "# numpy==1.16.2"
   ]
  },
  {
   "cell_type": "code",
   "execution_count": 4,
   "metadata": {},
   "outputs": [],
   "source": [
    "# !model\n",
    "import numpy as np\n",
    "from cognite.model_hosting.data_fetcher import DataFetcher\n",
    "from cognite.model_hosting.schedules import to_output"
   ]
  },
  {
   "cell_type": "code",
   "execution_count": 5,
   "metadata": {},
   "outputs": [],
   "source": [
    "# !model\n",
    "def predict(instance):\n",
    "    data_fetcher = DataFetcher(instance)\n",
    "    df = data_fetcher.time_series.fetch_dataframe([\"x\", \"y\"]).dropna()\n",
    "    df[\"mean\"] = np.mean(df[[\"x\", \"y\"]].values, axis=1)\n",
    "    \n",
    "    return to_output(df[[\"timestamp\", \"mean\"]])"
   ]
  },
  {
   "cell_type": "markdown",
   "metadata": {},
   "source": [
    "Notice that we start each the cell with `# !model`. This means this code will be included in our model. The next cells below will only be for local execution, and are not supposed to be executed in Model Hosting. And thus do not start with `# !model`. For our model to work with Model Hosting we have to define a `predict()` function. It's first parameter must be `instance` - the entity on which to perform prediction on. After that we may define our own parameters. We can of course also define other functions (and classes, etc) to help us do the prediction as we have done above.\n",
    "\n",
    "Okey, now we have defined our model. Let's try it out locally before we deploy it to Model Hosting."
   ]
  },
  {
   "cell_type": "code",
   "execution_count": 6,
   "metadata": {},
   "outputs": [],
   "source": [
    "prediction = predict(example_data_spec)"
   ]
  },
  {
   "cell_type": "code",
   "execution_count": 7,
   "metadata": {},
   "outputs": [
    {
     "data": {
      "text/plain": [
       "<matplotlib.axes._subplots.AxesSubplot at 0x120545940>"
      ]
     },
     "execution_count": 7,
     "metadata": {},
     "output_type": "execute_result"
    },
    {
     "data": {
      "image/png": "[encoded data removed]",
      "text/plain": [
       "<Figure size 432x288 with 1 Axes>"
      ]
     },
     "metadata": {
      "needs_background": "light"
     },
     "output_type": "display_data"
    }
   ],
   "source": [
    "import pandas as pd\n",
    "from cognite.model_hosting.schedules import ScheduleOutput\n",
    "\n",
    "df = ScheduleOutput(prediction).get_dataframe(\"mean\")\n",
    "df.plot(x=\"timestamp\")"
   ]
  },
  {
   "cell_type": "markdown",
   "metadata": {},
   "source": [
    "Looks good!"
   ]
  },
  {
   "cell_type": "markdown",
   "metadata": {},
   "source": [
    "# Deployingour model\n",
    "\n",
    "It's time to deploy our model. Let's first import what we need."
   ]
  },
  {
   "cell_type": "code",
   "execution_count": 8,
   "metadata": {},
   "outputs": [],
   "source": [
    "from cognite.client import CogniteClient\n",
    "from cognite.model_hosting.notebook import deploy_model_version\n",
    "\n",
    "model_hosting = CogniteClient().experimental.model_hosting"
   ]
  },
  {
   "cell_type": "markdown",
   "metadata": {},
   "source": [
    "To deploy a model version we first need a model. Note that's important we specify the input and output fields for a model that will be scheduled."
   ]
  },
  {
   "cell_type": "code",
   "execution_count": 9,
   "metadata": {},
   "outputs": [],
   "source": [
    "model_id = model_hosting.models.create_model(\n",
    "    \"mean-x-y\",\n",
    "    input_fields=[\n",
    "        {\"name\": \"x\", \"type\": \"TIME_SERIES\"},\n",
    "        {\"name\": \"y\", \"type\": \"TIME_SERIES\"},\n",
    "    ],\n",
    "    output_fields=[\n",
    "        {\"name\": \"mean\", \"type\": \"TIME_SERIES\"},\n",
    "    ],\n",
    ").id"
   ]
  },
  {
   "cell_type": "markdown",
   "metadata": {},
   "source": [
    "And then we deploy this notebook as a model version. It's important you **save the notebook** before doing this since the notebook file will be read to find your model."
   ]
  },
  {
   "cell_type": "code",
   "execution_count": 10,
   "metadata": {},
   "outputs": [],
   "source": [
    "model_version_id = deploy_model_version(\n",
    "    name=\"mean-x-y-v1\",\n",
    "    model_id=model_id,\n",
    "    runtime_version=\"0.1\"\n",
    ")"
   ]
  },
  {
   "cell_type": "markdown",
   "metadata": {},
   "source": [
    "Now we just have to wait for the deployment to finish. This usually takes a few minutes. Notice that the next step won't work before the status of the model version is 'READY'."
   ]
  },
  {
   "cell_type": "code",
   "execution_count": 11,
   "metadata": {},
   "outputs": [
    {
     "data": {
      "text/plain": [
       "'READY'"
      ]
     },
     "execution_count": 11,
     "metadata": {},
     "output_type": "execute_result"
    }
   ],
   "source": [
    "model_hosting.models.get_model_version(model_id, model_version_id).status"
   ]
  },
  {
   "cell_type": "markdown",
   "metadata": {},
   "source": [
    "# Testing the model\n",
    "\n",
    "Let's test the deployed model before we schedule it"
   ]
  },
  {
   "cell_type": "code",
   "execution_count": 12,
   "metadata": {},
   "outputs": [],
   "source": [
    "prediction = model_hosting.models.online_predict(\n",
    "    model_id,\n",
    "    model_version_id,\n",
    "    instances=[example_data_spec]\n",
    ")[0]"
   ]
  },
  {
   "cell_type": "code",
   "execution_count": 13,
   "metadata": {},
   "outputs": [
    {
     "data": {
      "text/plain": [
       "<matplotlib.axes._subplots.AxesSubplot at 0x12143e780>"
      ]
     },
     "execution_count": 13,
     "metadata": {},
     "output_type": "execute_result"
    },
    {
     "data": {
      "image/png": "[encoded data removed]",
      "text/plain": [
       "<Figure size 432x288 with 1 Axes>"
      ]
     },
     "metadata": {
      "needs_background": "light"
     },
     "output_type": "display_data"
    }
   ],
   "source": [
    "df = ScheduleOutput(prediction).get_dataframe(\"mean\")\n",
    "df.plot(x=\"timestamp\")"
   ]
  },
  {
   "cell_type": "markdown",
   "metadata": {},
   "source": [
    "Same result as we got locally! It's important to note that these predictions were performed in Cognite Model Hosting in the cloud, not on your computer. Anyone with internet (and appropriate access rights) can now access this model!"
   ]
  },
  {
   "cell_type": "markdown",
   "metadata": {},
   "source": [
    "# Setting up a schedule\n",
    "\n",
    "Setting up a schedule is mostly a matter of specifying a schedule data spec. It says how often predictions should be made and how much data you will observe at once.\n",
    "\n",
    "We will run once a minute so we set `stride=\"1m\"`, and we don't need any kind of look-back or something like that so we also just set `window_size=1m`. For input we specify our x and y time series, and specify our mean time series as output. Note that this must match with the input and output fields of the model."
   ]
  },
  {
   "cell_type": "code",
   "execution_count": 14,
   "metadata": {},
   "outputs": [],
   "source": [
    "from cognite.model_hosting.data_spec import (\n",
    "    ScheduleDataSpec,\n",
    "    ScheduleInputSpec,\n",
    "    ScheduleOutputSpec,\n",
    "    ScheduleInputTimeSeriesSpec,\n",
    "    ScheduleOutputTimeSeriesSpec\n",
    ")\n",
    "\n",
    "schedule_data_spec = ScheduleDataSpec(\n",
    "    stride=\"1m\",\n",
    "    window_size=\"1m\",\n",
    "    input=ScheduleInputSpec(\n",
    "        time_series={\n",
    "            \"x\": ScheduleInputTimeSeriesSpec(\n",
    "                id=ts_ids[\"x\"],\n",
    "                aggregate=\"interpolation\",\n",
    "                granularity=\"1s\"\n",
    "            ),\n",
    "            \"y\": ScheduleInputTimeSeriesSpec(\n",
    "                id=ts_ids[\"y\"],\n",
    "                aggregate=\"interpolation\",\n",
    "                granularity=\"1s\"\n",
    "            )\n",
    "        }\n",
    "    ),\n",
    "    output=ScheduleOutputSpec(\n",
    "        time_series={\n",
    "            \"mean\": ScheduleOutputTimeSeriesSpec(id=ts_ids[\"mean_x_y\"])\n",
    "        }\n",
    "    )\n",
    ")\n",
    "\n",
    "schedule_id = model_hosting.schedules.create_schedule(\n",
    "    model_id,\n",
    "    \"mean-x-y-schedule\",\n",
    "    schedule_data_spec,\n",
    "    description=\"A cool schedule\"\n",
    ").id"
   ]
  },
  {
   "cell_type": "markdown",
   "metadata": {},
   "source": [
    "Now we just have to wait. It will run once a minute - so we'll wait a few minutes.\n",
    "\n",
    "Once we have waited a bit we can try to download and plot the x and y time series together with our new mean time series. We'll take a look on the last 10 minutes."
   ]
  },
  {
   "cell_type": "code",
   "execution_count": 15,
   "metadata": {},
   "outputs": [
    {
     "data": {
      "text/plain": [
       "<matplotlib.axes._subplots.AxesSubplot at 0x11d3be6d8>"
      ]
     },
     "execution_count": 15,
     "metadata": {},
     "output_type": "execute_result"
    },
    {
     "data": {
      "image/png": "[encoded data removed]",
      "text/plain": [
       "<Figure size 432x288 with 1 Axes>"
      ]
     },
     "metadata": {
      "needs_background": "light"
     },
     "output_type": "display_data"
    }
   ],
   "source": [
    "data_spec = DataSpec(time_series={\n",
    "    \"x\": TimeSeriesSpec(\n",
    "        id=ts_ids[\"x\"],\n",
    "        start=\"10m-ago\",\n",
    "        end=\"now\",\n",
    "        aggregate=\"interpolation\",\n",
    "        granularity=\"1s\"\n",
    "    ),\n",
    "    \"y\": TimeSeriesSpec(\n",
    "        id=ts_ids[\"y\"],\n",
    "        start=\"10m-ago\",\n",
    "        end=\"now\",\n",
    "        aggregate=\"interpolation\",\n",
    "        granularity=\"1s\"\n",
    "    ),\n",
    "    \"mean_x_y\": TimeSeriesSpec(\n",
    "        id=ts_ids[\"mean_x_y\"],\n",
    "        start=\"10m-ago\",\n",
    "        end=\"now\",\n",
    "        aggregate=\"interpolation\",\n",
    "        granularity=\"1s\"\n",
    "    ),\n",
    "})\n",
    "data_fetcher = DataFetcher(data_spec)\n",
    "data_fetcher.time_series.fetch_dataframe([\"x\", \"y\", \"mean_x_y\"]).plot(x=\"timestamp\")"
   ]
  },
  {
   "cell_type": "markdown",
   "metadata": {},
   "source": [
    "Look at it go!\n",
    "\n",
    "This will continue to run in Model Hosting long after we shut down this notebook - 24/7."
   ]
  },
  {
   "cell_type": "markdown",
   "metadata": {},
   "source": [
    "As always - when you're done with a tutorial - remember to clean up after yourself."
   ]
  },
  {
   "cell_type": "code",
   "execution_count": 16,
   "metadata": {},
   "outputs": [],
   "source": [
    "source_package_id = model_hosting.models.get_model_version(\n",
    "    model_id,\n",
    "    model_version_id\n",
    ").source_package_id\n",
    "\n",
    "# This will delete all versions and schedules for that model\n",
    "model_hosting.models.delete_model(model_id)\n",
    "\n",
    "# We also have to delete the source package\n",
    "model_hosting.source_packages.delete_source_package(source_package_id)"
   ]
  }
 ],
 "metadata": {
  "kernelspec": {
   "display_name": "Python 3",
   "language": "python",
   "name": "python3"
  },
  "language_info": {
   "codemirror_mode": {
    "name": "ipython",
    "version": 3
   },
   "file_extension": ".py",
   "mimetype": "text/x-python",
   "name": "python",
   "nbconvert_exporter": "python",
   "pygments_lexer": "ipython3",
   "version": "3.7.2"
  }
 },
 "nbformat": 4,
 "nbformat_minor": 2
}
