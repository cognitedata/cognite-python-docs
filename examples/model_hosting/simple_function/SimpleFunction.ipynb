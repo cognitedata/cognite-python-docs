{
 "cells": [
  {
   "cell_type": "code",
   "execution_count": 33,
   "metadata": {},
   "outputs": [],
   "source": [
    "%matplotlib inline\n",
    "import os\n",
    "\n",
    "from cognite.client import CogniteClient\n",
    "from cognite.model_hosting.data_spec import *\n",
    "from cognite.model_hosting.data_fetcher import DataFetcher\n",
    "\n",
    "API_KEY = os.getenv(\"COGNITE_API_KEY\")\n",
    "client = CogniteClient(api_key=API_KEY)\n",
    "mlh = client.experimental.model_hosting"
   ]
  },
  {
   "cell_type": "markdown",
   "metadata": {},
   "source": [
    "# Introduction\n",
    "\n",
    "For this tutorial we will deploy a scheduled function which adds together two time series and multiplies them by pi.\n",
    "\n",
    "The source package for this function is located in the \"transform\" directory.\n",
    "\n",
    "First we will create a \"model\" container for deploying our model versions to."
   ]
  },
  {
   "cell_type": "code",
   "execution_count": 34,
   "metadata": {},
   "outputs": [],
   "source": [
    "model_id = mlh.models.create_model(\n",
    "    name=\"my-simple-function\",\n",
    "    input_fields=[{\"name\": \"x1\", \"type\": \"TIME_SERIES\"}, {\"name\": \"x2\", \"type\": \"TIME_SERIES\"}],\n",
    "    output_fields=[{\"name\": \"y\", \"type\": \"TIME_SERIES\"}],\n",
    ").id"
   ]
  },
  {
   "cell_type": "markdown",
   "metadata": {},
   "source": [
    "Then we upload our source package to the hosting environment"
   ]
  },
  {
   "cell_type": "code",
   "execution_count": 35,
   "metadata": {},
   "outputs": [],
   "source": [
    "source_package_id = mlh.source_packages.build_and_upload_source_package(\n",
    "    name=\"my-simple-function\", \n",
    "    runtime_version=\"0.1\", \n",
    "    package_directory=\"transform\"\n",
    ").id"
   ]
  },
  {
   "cell_type": "markdown",
   "metadata": {},
   "source": [
    "Then we deploy our function as a model version"
   ]
  },
  {
   "cell_type": "code",
   "execution_count": 36,
   "metadata": {},
   "outputs": [],
   "source": [
    "version_id = mlh.models.deploy_model_version(\n",
    "    model_id=model_id,\n",
    "    name=\"my-simple-function-v1\",\n",
    "    source_package_id=source_package_id,\n",
    ").id"
   ]
  },
  {
   "cell_type": "code",
   "execution_count": 37,
   "metadata": {},
   "outputs": [
    {
     "data": {
      "text/plain": [
       "'READY'"
      ]
     },
     "execution_count": 37,
     "metadata": {},
     "output_type": "execute_result"
    }
   ],
   "source": [
    "mlh.models.get_model_version(model_id, version_id).status"
   ]
  },
  {
   "cell_type": "markdown",
   "metadata": {},
   "source": [
    "Now we can create a schedule spec for defining which data we will pass to our function and how the input data will be traversed.\n",
    "\n",
    "Here you can fill in your input and output time series."
   ]
  },
  {
   "cell_type": "code",
   "execution_count": 38,
   "metadata": {},
   "outputs": [],
   "source": [
    "INPUT_TS_1 = ...\n",
    "INPUT_TS_2 = ...\n",
    "OUTPUT_TS = ...\n",
    "\n",
    "schedule_data_spec = ScheduleDataSpec(\n",
    "    input=ScheduleInputSpec(\n",
    "        time_series={\n",
    "            \"x1\": ScheduleInputTimeSeriesSpec(id=INPUT_TS_1, aggregate=\"average\", granularity=\"10s\"),\n",
    "            \"x2\": ScheduleInputTimeSeriesSpec(id=INPUT_TS_2, aggregate=\"average\", granularity=\"10s\")\n",
    "        }\n",
    "    ),\n",
    "    output=ScheduleOutputSpec(\n",
    "        time_series={\n",
    "            \"y\": ScheduleOutputTimeSeriesSpec(id=OUTPUT_TS)\n",
    "        }\n",
    "    ),\n",
    "    start=\"now\",\n",
    "    stride=\"1m\",\n",
    "    window_size=\"1m\"\n",
    ")\n",
    "\n"
   ]
  },
  {
   "cell_type": "markdown",
   "metadata": {},
   "source": [
    "Then we can start the schedule"
   ]
  },
  {
   "cell_type": "code",
   "execution_count": 39,
   "metadata": {},
   "outputs": [],
   "source": [
    "schedule_id = mlh.schedules.create_schedule(\n",
    "    model_id=model_id,\n",
    "    name=\"tutorial-schedule\",\n",
    "    schedule_data_spec=schedule_data_spec,\n",
    "    description=\"Some description\"\n",
    ").id"
   ]
  },
  {
   "cell_type": "markdown",
   "metadata": {},
   "source": [
    "Our output time series is now being updated every minute. Let's have a look!\n"
   ]
  },
  {
   "cell_type": "code",
   "execution_count": 45,
   "metadata": {},
   "outputs": [
    {
     "data": {
      "text/plain": [
       "<matplotlib.axes._subplots.AxesSubplot at 0x11b851080>"
      ]
     },
     "execution_count": 45,
     "metadata": {},
     "output_type": "execute_result"
    },
    {
     "data": {
      "image/png": "[encoded data removed]",
      "text/plain": [
       "<Figure size 432x288 with 1 Axes>"
      ]
     },
     "metadata": {
      "needs_background": "light"
     },
     "output_type": "display_data"
    }
   ],
   "source": [
    "ds = DataSpec(time_series={\n",
    "    \"input1\": TimeSeriesSpec(id=INPUT_TS_1, aggregate=\"average\", granularity=\"10s\", start=\"5m-ago\", end=\"now\"),\n",
    "    \"input2\": TimeSeriesSpec(id=INPUT_TS_2, aggregate=\"average\", granularity=\"10s\", start=\"5m-ago\", end=\"now\"),\n",
    "    \"output\": TimeSeriesSpec(id=OUTPUT_TS, aggregate=\"average\", granularity=\"10s\", start=\"5m-ago\", end=\"now\")\n",
    "})\n",
    "\n",
    "df = DataFetcher(ds).time_series.fetch_dataframe([\"input1\", \"input2\", \"output\"])\n",
    "df.plot(x=\"timestamp\")"
   ]
  },
  {
   "cell_type": "markdown",
   "metadata": {},
   "source": [
    "Remember to clean up after yourself by deleting your model"
   ]
  },
  {
   "cell_type": "code",
   "execution_count": 46,
   "metadata": {},
   "outputs": [],
   "source": [
    "mlh.models.delete_model(model_id)\n",
    "mlh.source_packages.delete_source_package(source_package_id)"
   ]
  }
 ],
 "metadata": {
  "kernelspec": {
   "display_name": "Python 3",
   "language": "python",
   "name": "python3"
  },
  "language_info": {
   "codemirror_mode": {
    "name": "ipython",
    "version": 3
   },
   "file_extension": ".py",
   "mimetype": "text/x-python",
   "name": "python",
   "nbconvert_exporter": "python",
   "pygments_lexer": "ipython3",
   "version": "3.7.2"
  }
 },
 "nbformat": 4,
 "nbformat_minor": 1
}
