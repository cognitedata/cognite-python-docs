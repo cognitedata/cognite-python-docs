{
 "cells": [
  {
   "cell_type": "markdown",
   "metadata": {},
   "source": [
    "**Requirements**:\n",
    "- You need to have the `cognite-sdk` package installed\n",
    "- The environment variable `COGNITE_API_KEY` should be set"
   ]
  },
  {
   "cell_type": "code",
   "execution_count": 1,
   "metadata": {},
   "outputs": [],
   "source": [
    "%matplotlib inline\n",
    "import os\n",
    "\n",
    "from cognite.client.experimental import CogniteClient\n",
    "from cognite.model_hosting.data_spec import *\n",
    "from cognite.model_hosting.data_fetcher import DataFetcher\n",
    "\n",
    "client = CogniteClient()\n",
    "mlh = client.model_hosting"
   ]
  },
  {
   "cell_type": "markdown",
   "metadata": {},
   "source": [
    "# Introduction\n",
    "\n",
    "In this tutorial we will deploy a scheduled function which adds together two time series and divides them by pi.\n",
    "\n",
    "The source package for this function is located in the \"transform\" directory."
   ]
  },
  {
   "cell_type": "markdown",
   "metadata": {},
   "source": [
    "First we will create a \"model\" container for deploying our model versions to."
   ]
  },
  {
   "cell_type": "code",
   "execution_count": 2,
   "metadata": {},
   "outputs": [],
   "source": [
    "model_name = mlh.models.create_model(\n",
    "    name=\"my-simple-function\",\n",
    "    input_fields=[{\"name\": \"x1\", \"type\": \"TIME_SERIES\"}, {\"name\": \"x2\", \"type\": \"TIME_SERIES\"}],\n",
    "    output_fields=[{\"name\": \"y\", \"type\": \"TIME_SERIES\"}],\n",
    ").name"
   ]
  },
  {
   "cell_type": "markdown",
   "metadata": {},
   "source": [
    "Then we upload our source package to the hosting environment"
   ]
  },
  {
   "cell_type": "code",
   "execution_count": 3,
   "metadata": {},
   "outputs": [],
   "source": [
    "source_package_id = mlh.source_packages.build_and_upload_source_package(\n",
    "    name=\"my-simple-function\", \n",
    "    runtime_version=\"0.1\", \n",
    "    package_directory=\"transform\"\n",
    ").id"
   ]
  },
  {
   "cell_type": "markdown",
   "metadata": {},
   "source": [
    "Then we deploy our function as a model version"
   ]
  },
  {
   "cell_type": "code",
   "execution_count": 4,
   "metadata": {},
   "outputs": [],
   "source": [
    "version_name = mlh.versions.deploy_model_version(\n",
    "    model_name=model_name,\n",
    "    version_name=\"my-simple-function-v1\",\n",
    "    source_package_id=source_package_id,\n",
    ").name"
   ]
  },
  {
   "cell_type": "code",
   "execution_count": 5,
   "metadata": {},
   "outputs": [
    {
     "data": {
      "text/plain": [
       "'READY'"
      ]
     },
     "execution_count": 5,
     "metadata": {},
     "output_type": "execute_result"
    }
   ],
   "source": [
    "mlh.versions.get_model_version(model_name, version_name).status"
   ]
  },
  {
   "cell_type": "markdown",
   "metadata": {},
   "source": [
    "Now we can create a schedule spec to define which data we will pass to our function and how the input data will be processed."
   ]
  },
  {
   "cell_type": "code",
   "execution_count": 6,
   "metadata": {},
   "outputs": [],
   "source": [
    "# NOTE: USE YOUR OWN TIME SERIES HERE\n",
    "INPUT_TS_1 = 6219610002944799  # Fill in your own time series ID\n",
    "INPUT_TS_2 = 1014968819786991 # Fill in your own time series ID\n",
    "OUTPUT_TS = 8895842852348905  # Fill in your own time series ID\n",
    "\n",
    "schedule_data_spec = ScheduleDataSpec(\n",
    "    input=ScheduleInputSpec(\n",
    "        time_series={\n",
    "            \"x1\": ScheduleInputTimeSeriesSpec(\n",
    "                id=INPUT_TS_1, \n",
    "                aggregate=\"average\", \n",
    "                granularity=\"10s\"\n",
    "            ),\n",
    "            \"x2\": ScheduleInputTimeSeriesSpec(\n",
    "                id=INPUT_TS_2, \n",
    "                aggregate=\"average\", \n",
    "                granularity=\"10s\")\n",
    "        }\n",
    "    ),\n",
    "    output=ScheduleOutputSpec(\n",
    "        time_series={\n",
    "            \"y\": ScheduleOutputTimeSeriesSpec(\n",
    "                id=OUTPUT_TS\n",
    "            )\n",
    "        }\n",
    "    ),\n",
    "    start=\"now\",\n",
    "    stride=\"1m\",\n",
    "    window_size=\"1m\",\n",
    "    slack=\"5m\",\n",
    ")\n",
    "\n"
   ]
  },
  {
   "cell_type": "markdown",
   "metadata": {},
   "source": [
    "Then we can start the schedule"
   ]
  },
  {
   "cell_type": "code",
   "execution_count": 7,
   "metadata": {},
   "outputs": [],
   "source": [
    "schedule_name = mlh.schedules.create_schedule(\n",
    "    model_name=model_name,\n",
    "    schedule_name=\"tutorial-schedule\",\n",
    "    schedule_data_spec=schedule_data_spec,\n",
    "    description=\"Some description\"\n",
    ").name"
   ]
  },
  {
   "cell_type": "markdown",
   "metadata": {},
   "source": [
    "Our output time series is now being updated every minute. Let's have a look!\n"
   ]
  },
  {
   "cell_type": "code",
   "execution_count": 8,
   "metadata": {},
   "outputs": [
    {
     "data": {
      "text/plain": [
       "<matplotlib.axes._subplots.AxesSubplot at 0x2093a769ef0>"
      ]
     },
     "execution_count": 8,
     "metadata": {},
     "output_type": "execute_result"
    },
    {
     "data": {
      "image/png": "[encoded data removed]",
      "text/plain": [
       "<Figure size 432x288 with 1 Axes>"
      ]
     },
     "metadata": {
      "needs_background": "light"
     },
     "output_type": "display_data"
    }
   ],
   "source": [
    "ds = DataSpec(\n",
    "    time_series={\n",
    "        \"input1\": TimeSeriesSpec(\n",
    "            id=INPUT_TS_1, \n",
    "            aggregate=\"average\", \n",
    "            granularity=\"10s\", \n",
    "            start=\"5m-ago\", \n",
    "            end=\"now\"\n",
    "        ),\n",
    "        \"input2\": TimeSeriesSpec(\n",
    "            id=INPUT_TS_2, \n",
    "            aggregate=\"average\", \n",
    "            granularity=\"10s\", \n",
    "            start=\"5m-ago\", \n",
    "            end=\"now\"\n",
    "        ),\n",
    "        \"output\": TimeSeriesSpec(\n",
    "            id=OUTPUT_TS, \n",
    "            aggregate=\"average\", \n",
    "            granularity=\"10s\", \n",
    "            start=\"5m-ago\", \n",
    "            end=\"now\"\n",
    "        )\n",
    "})\n",
    "\n",
    "df = DataFetcher(ds).time_series.fetch_dataframe([\"input1\", \"input2\", \"output\"])\n",
    "df.plot()"
   ]
  },
  {
   "cell_type": "markdown",
   "metadata": {},
   "source": [
    "Remember to clean up after yourself by deleting your model"
   ]
  },
  {
   "cell_type": "code",
   "execution_count": 9,
   "metadata": {},
   "outputs": [],
   "source": [
    "mlh.models.delete_model(model_name)\n",
    "mlh.source_packages.delete_source_package(source_package_id)"
   ]
  }
 ],
 "metadata": {
  "kernelspec": {
   "display_name": "Python 3",
   "language": "python",
   "name": "python3"
  },
  "language_info": {
   "codemirror_mode": {
    "name": "ipython",
    "version": 3
   },
   "file_extension": ".py",
   "mimetype": "text/x-python",
   "name": "python",
   "nbconvert_exporter": "python",
   "pygments_lexer": "ipython3",
   "version": "3.7.3"
  }
 },
 "nbformat": 4,
 "nbformat_minor": 1
}
