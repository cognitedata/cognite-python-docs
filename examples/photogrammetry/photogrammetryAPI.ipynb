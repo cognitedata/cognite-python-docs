{
 "cells": [
  {
   "cell_type": "markdown",
   "metadata": {},
   "source": [
    "# Photogrammetry API\n",
    "\n",
    "<div class=\"alert alert-block alert-warning\">\n",
    "\n",
    "<b>The Photogrammetry API is highly experimental and some features may not be available or function correctly at the moment. Please use this API with care, as we issue no guarantees this API won't break.\n",
    "</b> \n",
    "</div>\n",
    "\n",
    "In this tutorial we will go through how to use Cognite's Photogrammetry API to create contextualised 3D models using images.\n",
    "\n",
    "The API reference is available here: [https://doc.cognitedata.com/api/playground/](https://doc.cognitedata.com/api/playground/)\n",
    "\n",
    "\n",
    "### Background\n",
    "\n",
    "In order to create contextualised 3D models we have developed a pipeline with several modular parts. First, images are uploaded as a zip file by the user. These images go through a quality control step, where low quality images (blurry) are filtered out. Next, the 3D reconstruction and tag detection steps are started. The former is done by using a method called photogrammetry, which uses overlapping images from a real-world object or scene to create a 3D model.\n",
    "\n",
    "The tag detection is done in two steps. First we use Convolution Neural Networks (CNN) for detection of tags, and thereafter optical character recognition (OCR) is used for recognizing the tag text. In the last step, the image pixel coordinates extracted by the tag detector are mapped to 3D locations.\n",
    "\n",
    "\n",
    "<img src=\"images/pipeline.png\" width=\"600\" align=\"center\">\n",
    "\n",
    "\n",
    "3D data genereated by photogrammetry is organized in models and revisions in Cognite Data Fusion (CDF), similar to how other 3D data is stored in CDF:\n",
    "\n",
    "   * Models are placeholders for a set of revisions.\n",
    "\n",
    "   * Revisions contain the 3D data.\n",
    "\n",
    "Revisions can for instance represent time evolution of the 3D model, or different versions of the model (high detail vs low detail).\n",
    "\n",
    "When you create a new revision and upload images, the reconstruction will start immediately. Depending on the the quality and number of images, this can take some time. A revision can have status `CREATED`, `IN_PROGRESS`, `SUCCESS` or `FAILED`, which can be tracked during processing."
   ]
  },
  {
   "cell_type": "markdown",
   "metadata": {},
   "source": [
    "## Step-by-step example\n",
    "\n",
    "The photogrammetry API is currently only enabled for a few selected tenants. If you want access from other tenants, please contact Cognite to get it enabled or open a pull request in this repo.\n",
    "\n",
    "First, we make the imports we'll need for this tutorial and use an API key to authenticate. Make sure that you have set the API key and client name as environment variables and have installed the latest version of [Cognite Python SDK](https://cognite-docs.readthedocs-hosted.com/projects/cognite-sdk-python/en/latest/)."
   ]
  },
  {
   "cell_type": "code",
   "execution_count": null,
   "metadata": {},
   "outputs": [],
   "source": [
    "import os\n",
    "from urllib.request import urlretrieve\n",
    "from cognite.client import CogniteClient\n",
    "\n",
    "BASEURL = \"/api/playground\"\n",
    "os.environ[\"COGNITE_DISABLE_GZIP\"] = \"1\"\n",
    "client = CogniteClient(api_key=os.environ['COGNITE_API_KEY'], \n",
    "                       client_name=os.environ['COGNITE_CLIENT_NAME'])"
   ]
  },
  {
   "cell_type": "markdown",
   "metadata": {},
   "source": [
    "### List Photogrammetry models\n",
    "\n",
    "List all available Photogrammetry models:"
   ]
  },
  {
   "cell_type": "code",
   "execution_count": null,
   "metadata": {
    "scrolled": false
   },
   "outputs": [],
   "source": [
    "def list_photogrammetry_models():\n",
    "    response = client.get(url=f\"{BASEURL}/photogrammetry\")\n",
    "    return response.json()\n",
    "\n",
    "list_photogrammetry_models()"
   ]
  },
  {
   "cell_type": "markdown",
   "metadata": {},
   "source": [
    "### Create and retrieve a Photogrammetry model\n",
    "\n",
    "To create a Photogrammetry model you need to provide the `name` field. "
   ]
  },
  {
   "cell_type": "code",
   "execution_count": null,
   "metadata": {},
   "outputs": [],
   "source": [
    "name = \"my first model\" # Your model name"
   ]
  },
  {
   "cell_type": "code",
   "execution_count": null,
   "metadata": {},
   "outputs": [],
   "source": [
    "def create_photogrammetry_model(name):\n",
    "    response = client.post(url=f\"{BASEURL}/photogrammetry\",\n",
    "                           json={\"items\": [{\"name\": name}]})\n",
    "    model = response.json()[\"items\"][0]\n",
    "    return model\n",
    "\n",
    "model = create_photogrammetry_model(name)\n",
    "model"
   ]
  },
  {
   "cell_type": "markdown",
   "metadata": {},
   "source": [
    "Note that, multiple models can be created in one request but here we only create one single model. Once created, you can retrieve the model by id:"
   ]
  },
  {
   "cell_type": "code",
   "execution_count": null,
   "metadata": {
    "scrolled": true
   },
   "outputs": [],
   "source": [
    "def get_photogrammetry_model(p_id):\n",
    "    response = client.get(url=f\"{BASEURL}/photogrammetry/{p_id}\")\n",
    "    return response.json()\n",
    "\n",
    "get_photogrammetry_model(p_id = model[\"id\"])"
   ]
  },
  {
   "cell_type": "markdown",
   "metadata": {},
   "source": [
    "### List Photogrammetry model revisions\n",
    "\n",
    "The list of all available revisions in the newly created Photogrammetry model should be empty:"
   ]
  },
  {
   "cell_type": "code",
   "execution_count": null,
   "metadata": {},
   "outputs": [],
   "source": [
    "def list_revisions(p_id):\n",
    "    response = client.get(url=f\"{BASEURL}/photogrammetry/{p_id}/revisions\")\n",
    "    return response.json()\n",
    "\n",
    "list_revisions(model[\"id\"])"
   ]
  },
  {
   "cell_type": "markdown",
   "metadata": {},
   "source": [
    "### Create and retrieve a Photogrammetry model revision\n",
    "\n",
    "When creating a revision, you can choose to detect tags in the images that are used to generate the 3D model. This can be done by setting `detect_tags=True` (default is `False`):"
   ]
  },
  {
   "cell_type": "code",
   "execution_count": null,
   "metadata": {},
   "outputs": [],
   "source": [
    "detect_tags = True"
   ]
  },
  {
   "cell_type": "code",
   "execution_count": null,
   "metadata": {},
   "outputs": [],
   "source": [
    "def create_revision(p_id, detect_tags):\n",
    "    response = client.post(url=f\"{BASEURL}/photogrammetry/{p_id}/revisions\", \n",
    "                           json={\"items\": [{\"detectTags\": detect_tags}]})\n",
    "    revision = response.json()[\"items\"][0]\n",
    "    return revision\n",
    "\n",
    "revision = create_revision(p_id=model[\"id\"], detect_tags=detect_tags)"
   ]
  },
  {
   "cell_type": "markdown",
   "metadata": {},
   "source": [
    "As for Photogrammetry models, multiple revisions can be created in one request, but here we create one signle revision (you need to create a new revision every time you upload a new set of images). Once created, you can retrieve the revision by id:"
   ]
  },
  {
   "cell_type": "code",
   "execution_count": null,
   "metadata": {
    "scrolled": true
   },
   "outputs": [],
   "source": [
    "def get_revision(p_id, r_id):\n",
    "    response = client.get(url=f\"{BASEURL}/photogrammetry/{p_id}/revisions/{r_id}\")\n",
    "    return response.json()\n",
    "\n",
    "get_revision(p_id=model[\"id\"], r_id=revision[\"id\"])"
   ]
  },
  {
   "cell_type": "markdown",
   "metadata": {},
   "source": [
    "This revision will now be part of the model we created earlier:"
   ]
  },
  {
   "cell_type": "code",
   "execution_count": null,
   "metadata": {},
   "outputs": [],
   "source": [
    "list_revisions(model[\"id\"])"
   ]
  },
  {
   "cell_type": "markdown",
   "metadata": {},
   "source": [
    "### Upload images\n",
    "\n",
    "To upload images, you need to provide the upload url for the revision and the filepath for the zip file containing the images. The reconstruction will start immediately after the upload. We have created a test dataset, which you can download from [here](https://drive.google.com/open?id=1VaIURFCuv0BT2ny_-wcz6Kucayj5qkIk) or you can use your own images (*remember to change the zip file path!*). \n",
    "\n",
    "\n",
    "<div class=\"alert alert-block alert-info\"><b>\n",
    "    \n",
    "* The supported image formats are: jpeg, jpg, jpe, and png.\n",
    "    \n",
    "    \n",
    "* The maximum number of images you can have in a model is 300.\n",
    "\n",
    "\n",
    "* Maximum size of a single image: 128 MB \n",
    "</b></div>\n"
   ]
  },
  {
   "cell_type": "code",
   "execution_count": null,
   "metadata": {},
   "outputs": [],
   "source": [
    "def upload_images(upload_url, zip_file_path):\n",
    "    import requests\n",
    "    headers = {\"content-length\": str(os.path.getsize(zip_file_path))}\n",
    "    \n",
    "    with open(zip_file_path, \"rb\") as file:\n",
    "        requests.put(upload_url, data=file, headers=headers)\n",
    "        \n",
    "zip_file_path = \"/path/to/zipfile.zip\" # CHANGE ME!\n",
    "\n",
    "upload_images(revision[\"uploadURL\"], zip_file_path)"
   ]
  },
  {
   "cell_type": "markdown",
   "metadata": {},
   "source": [
    "### Retrieve the 3D file\n",
    "\n",
    "To check whether your 3D model is ready, use `get_revision()` to see if the reconstruction job is finished. If that is the case, `status` will be `SUCCESS` and you get a download URL link that can be used to download the 3D file (fbx file).\n",
    "\n",
    "\n",
    "<div class=\"alert alert-block alert-info\"><b>\n",
    "It takes around 15-20 minutes to process and create a 3D model using the dataset provided above.\n",
    "</b></div>"
   ]
  },
  {
   "cell_type": "code",
   "execution_count": null,
   "metadata": {},
   "outputs": [],
   "source": [
    "response = get_revision(p_id=model[\"id\"], r_id=revision[\"id\"])\n",
    "\n",
    "output_filename = \"output.fbx\"\n",
    "\n",
    "if response[\"status\"] == \"SUCCESS\":\n",
    "    download_url = response[\"downloadURL\"]\n",
    "    urlretrieve(download_url, output_filename)\n",
    "    \n",
    "response"
   ]
  },
  {
   "cell_type": "markdown",
   "metadata": {},
   "source": [
    "### Retrieve tag locations\n",
    "\n",
    "All detected labels can be retrieved by:"
   ]
  },
  {
   "cell_type": "code",
   "execution_count": null,
   "metadata": {},
   "outputs": [],
   "source": [
    "def get_tags(p_id, r_id):\n",
    "    response = client.get(url=f\"{BASEURL}/photogrammetry/{p_id}/revisions/{r_id}/tags\")\n",
    "    return response.json()\n",
    "\n",
    "get_tags(p_id=model[\"id\"], r_id=revision[\"id\"])"
   ]
  },
  {
   "cell_type": "markdown",
   "metadata": {},
   "source": [
    "### Delete the photogrammetry model\n",
    "\n",
    "To avoid crowding it might be a good idea to remove old/unused photogrammetry models and revisions. A revision can be deleted by:"
   ]
  },
  {
   "cell_type": "code",
   "execution_count": null,
   "metadata": {},
   "outputs": [],
   "source": [
    "def delete_revision(p_id, r_id):\n",
    "    response = client.post(url=f\"{BASEURL}/photogrammetry/{p_id}/revisions/delete\",\n",
    "                           json={\"items\": [{\"id\": r_id}]})\n",
    "    return response.json()\n",
    "\n",
    "delete_revision(p_id = model[\"id\"], r_id=revision[\"id\"])"
   ]
  },
  {
   "cell_type": "markdown",
   "metadata": {},
   "source": [
    "A photogrammetry model can be deleted by (will also delete all its revisions): "
   ]
  },
  {
   "cell_type": "code",
   "execution_count": null,
   "metadata": {},
   "outputs": [],
   "source": [
    "def delete_photogrammetry(p_id):\n",
    "    response = client.post(url=f\"{BASEURL}/photogrammetry/delete\",\n",
    "                           json={\"items\": [{\"id\": p_id}]})\n",
    "    return response.json()\n",
    "\n",
    "delete_photogrammetry(p_id = model[\"id\"])"
   ]
  },
  {
   "cell_type": "markdown",
   "metadata": {},
   "source": [
    "## Useful links\n",
    "\n",
    "\n",
    "* [Autodesk ReMake - How to Take Photos for Photogrammetry](https://www.youtube.com/watch?v=D7Torjkfec4)\n",
    "\n",
    "* [The Art of Photogrammetry: How To Take Your Photos](https://www.tested.com/art/makers/460142-art-photogrammetry-how-take-your-photos/)\n",
    "\n",
    "\n",
    "\n"
   ]
  }
 ],
 "metadata": {
  "kernelspec": {
   "display_name": "Python 3",
   "language": "python",
   "name": "python3"
  },
  "language_info": {
   "codemirror_mode": {
    "name": "ipython",
    "version": 3
   },
   "file_extension": ".py",
   "mimetype": "text/x-python",
   "name": "python",
   "nbconvert_exporter": "python",
   "pygments_lexer": "ipython3",
   "version": "3.7.3"
  }
 },
 "nbformat": 4,
 "nbformat_minor": 2
}
