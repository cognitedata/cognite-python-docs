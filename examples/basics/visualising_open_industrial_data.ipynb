{
  "nbformat": 4,
  "nbformat_minor": 0,
  "metadata": {
    "colab": {
      "name": "Visualising Open Industrial Data.ipynb",
      "version": "0.3.2",
      "provenance": [],
      "include_colab_link": true
    },
    "language_info": {
      "codemirror_mode": {
        "name": "ipython",
        "version": 3
      },
      "file_extension": ".py",
      "mimetype": "text/x-python",
      "name": "python",
      "nbconvert_exporter": "python",
      "pygments_lexer": "ipython3",
      "version": "3.7.2"
    },
    "kernelspec": {
      "display_name": "Python 3",
      "language": "python",
      "name": "python3"
    }
  },
  "cells": [
    {
      "cell_type": "markdown",
      "metadata": {
        "id": "view-in-github",
        "colab_type": "text"
      },
      "source": [
        "<a href=\"https://colab.research.google.com/github/cognitedata/cognite-python-docs/blob/visualizing-open-industrial-data/examples/basics/visualising_open_industrial_data.ipynb\" target=\"_parent\"><img src=\"https://colab.research.google.com/assets/colab-badge.svg\" alt=\"Open In Colab\"/></a>"
      ]
    },
    {
      "cell_type": "markdown",
      "metadata": {
        "colab_type": "text",
        "id": "eAXnMj5E9jWG"
      },
      "source": [
        "<a href=\"https://colab.research.google.com/github/cognitedata/cognite-python-docs/examples/basics/blob/master/visualising_open_industrial_data.ipynb\" target=\"_parent\"><img src=\"https://colab.research.google.com/assets/colab-badge.svg\" alt=\"Open In Colab\"/></a>\n",
        "\n",
        "# Visualising Open Industrial Data\n",
        "\n",
        "## What this notebook will achieve\n",
        "\n",
        "* Extract live data from an oil rig in the North Sea.\n",
        "\n",
        "* Visualize and inspect data directly from the Cognite Data Platform.\n",
        "\n",
        "\n",
        "\n",
        "## Getting started\n",
        "\n",
        "* Having a basic understanding of Python concepts will help to understand the process.\n",
        "\n",
        "* Cognite has released *live* data to the public on the Cognite Data Platform streaming from [Valhall](https://www.akerbp.com/en/our-assets/production/valhall/), one of Aker's oil fields.\n",
        "\n",
        "* To access the data, generate an API Key on [Open Industrial Data](https://openindustrialdata.com/). Get your key via the Google Access platform. You will be asked to fill out some personal information to generate your personal key.\n",
        "\n",
        "* Visualize some of the machines (assets) on Valhall with Cognite's [Operational Intelligence](https://opint.cogniteapp.com/publicdata/infographics/-LOHKEJPLvt0eRIZu8mE) dashboard. This data on this page shows is streaming live data from the Valhall oil field located in the North Sea.\n",
        "\n",
        "* To understand how to interact with the data using the Python SDK ([Docs](https://cognite-sdk-python.readthedocs-hosted.com/en/latest/)) follow along in this notebook."
      ]
    },
    {
      "cell_type": "markdown",
      "metadata": {
        "colab_type": "text",
        "id": "k8-Oj493ReNU"
      },
      "source": [
        "## Environment Setup"
      ]
    },
    {
      "cell_type": "markdown",
      "metadata": {
        "colab_type": "text",
        "id": "4Lf5pnaDBLnc"
      },
      "source": [
        "#### Install the Cognite SDK package"
      ]
    },
    {
      "cell_type": "code",
      "metadata": {
        "colab_type": "code",
        "id": "pbgkP3p59iiK",
        "colab": {}
      },
      "source": [
        "!pip install --pre cognite-sdk\n",
        "!pip install --upgrade numpy"
      ],
      "execution_count": 0,
      "outputs": []
    },
    {
      "cell_type": "markdown",
      "metadata": {
        "colab_type": "text",
        "id": "CN5J9FmPBRLk"
      },
      "source": [
        "#### Import the required packages"
      ]
    },
    {
      "cell_type": "code",
      "metadata": {
        "colab_type": "code",
        "id": "uFkQ73a44wmU",
        "colab": {}
      },
      "source": [
        "%matplotlib inline\n",
        "\n",
        "import os\n",
        "from datetime import datetime, timedelta\n",
        "from datetime import datetime\n",
        "from getpass import getpass\n",
        "\n",
        "import numpy as np\n",
        "import pandas as pd\n",
        "import matplotlib.pyplot as plt\n",
        "from sklearn.ensemble import RandomForestRegressor\n",
        "from sklearn.linear_model import LinearRegression\n",
        "from sklearn.metrics import mean_squared_error\n",
        "from sklearn.metrics import r2_score\n",
        "\n",
        "from cognite.client import CogniteClient"
      ],
      "execution_count": 0,
      "outputs": []
    },
    {
      "cell_type": "markdown",
      "metadata": {
        "colab_type": "text",
        "id": "Pr0CQECZBWW3"
      },
      "source": [
        "#### Connect to the Cognite Data Platform\n",
        "* This client object is how all queries will be sent to the Cognite API to retrieve data.\n",
        "\n",
        "When prompted for your API key, use the key generated by open industrial data as mentioned in the Getting Started steps."
      ]
    },
    {
      "cell_type": "code",
      "metadata": {
        "colab_type": "code",
        "id": "E8CdoRFu9n2t",
        "scrolled": true,
        "colab": {}
      },
      "source": [
        "client = CogniteClient(api_key=getpass(\"Open Industrial Data API-KEY: \"))"
      ],
      "execution_count": 0,
      "outputs": []
    },
    {
      "cell_type": "markdown",
      "metadata": {
        "colab_type": "text",
        "id": "VKFPBwYsRjHL"
      },
      "source": [
        "## Accessing Cognite Data Platform (CDP)\n",
        "* The CDP organizes digital information about the physical world.\n",
        "* There are 6 kinds of objects stored on the CDP. Each of these objects in the CDP are labelled with a unique ID. Information regarding a specific Asset, Event, etc are often retrieved using this ID.\n",
        "\n",
        "  * [Assets](https://doc.cognitedata.com/api/0.5/#tag/Assets) are digital representations of physical objects or groups of objects, and assets are organized into an asset hierarchy. For example, an asset can represent a water pump which is part of a subsystem on an oil platform.\n",
        "  \n",
        "  * [Event](https://doc.cognitedata.com/api/0.5/#tag/Events) objects store complex information about multiple assets over a time period. For example, an event can describe two hours of maintenance on a water pump and some associated pipes.\n",
        "  \n",
        "  * A [File](https://doc.cognitedata.com/api/0.5/#tag/Files) stores a sequence of bytes connected to one or more assets. For example, a file can contain a piping and instrumentation diagram (P&IDs) showing how multiple assets are connected.\n",
        "  \n",
        "  * A [Time Series](https://doc.cognitedata.com/api/0.5/#tag/Time-series) consists of a sequence of data points connected to a single asset. For example: A water pump asset can have a temperature time series that records a data point in units of °C every second.\n",
        "  \n",
        "  * [Sequence](https://doc.cognitedata.com/api/0.5/#tag/Sequences) are similar to time series in that they are a key value pair, but rather than using a timestamp as the key, another measurment such as depth could be the key. For example, this is used in practice when drilling and taking measurments at various depths.\n",
        "  \n",
        "  * A [3D](https://doc.cognitedata.com/api/0.5/#tag/3D) model is typically built up by a hierarchical structure. This looks very similar to how we organize our internal asset hierarchy. 3D models are visualized via Cognite's dashboards.\n",
        "  \n",
        "* It is important to refer back to the [SDK](https://cognite-sdk-python.readthedocs-hosted.com/en/latest/cognite.html) for specific details on arguments on all avaiable methods on how to access these objects."
      ]
    },
    {
      "cell_type": "markdown",
      "metadata": {
        "colab_type": "text",
        "id": "KeCoOb_AWPv_"
      },
      "source": [
        "### Collecting Time Series Information and Data Points\n",
        "\n",
        "* Time Series objects contain the bulk of information in the CDP.\n",
        "\n",
        "* Time Series objects are generally linked to an asset through the asset_id field.\n",
        "\n",
        "* The *get_time_series()* method has a variety of filters, all are listed in the SDK.\n",
        "\n",
        "To get all time series available in the project, we can do like this:"
      ]
    },
    {
      "cell_type": "code",
      "metadata": {
        "id": "Y7R5IPiWK0KS",
        "colab_type": "code",
        "colab": {}
      },
      "source": [
        "all_timeseries = client.time_series.list(limit=-1).to_pandas()\n",
        "print(len(all_timeseries))\n",
        "all_timeseries.head()"
      ],
      "execution_count": 0,
      "outputs": []
    },
    {
      "cell_type": "markdown",
      "metadata": {
        "id": "V13m64AYK0KU",
        "colab_type": "text"
      },
      "source": [
        "If you are curious about which asset a time series is attached to, you can retrieve more information of the asset by:"
      ]
    },
    {
      "cell_type": "code",
      "metadata": {
        "id": "8cJFyzeGK0KV",
        "colab_type": "code",
        "colab": {}
      },
      "source": [
        "client.assets.retrieve(id=2853212781345885).to_pandas()"
      ],
      "execution_count": 0,
      "outputs": []
    },
    {
      "cell_type": "markdown",
      "metadata": {
        "colab_type": "text",
        "id": "YIejfGjYWwNY"
      },
      "source": [
        "#### View datapoints for one of the time series\n",
        "\n",
        "* Now that we have a list of time series, we can retrieve datapoints for some of the them.\n",
        "\n",
        "* A Datapoint in the CDP is stored as a key value pair\n",
        "\n",
        "  * timestamp is the time since epoch in milliseconds\n",
        "  \n",
        "  * value is the reading from the sensor\n",
        "  \n",
        "The identifier to retrieve Datapoints is the **name** column from the DataFrame above."
      ]
    },
    {
      "cell_type": "code",
      "metadata": {
        "id": "i_3nqZxPK0KZ",
        "colab_type": "code",
        "colab": {}
      },
      "source": [
        "client.datapoints.retrieve(external_id=\"VAL_45-PT-92508:X.Value\", start=\"10d-ago\", end=\"now\").to_pandas().head()"
      ],
      "execution_count": 0,
      "outputs": []
    },
    {
      "cell_type": "markdown",
      "metadata": {
        "colab_type": "text",
        "id": "S3fBvnnKL3ii"
      },
      "source": [
        "## Practical use case of the data in the CDP\n",
        "\n",
        "* When gathering data from oil platforms, specific sensors can be very expensive to install and maintain.\n",
        "\n",
        "* A technique often used it to use a combination of other sensor readings to predict another.\n",
        "\n",
        "* The rest of the notebook will be used to retrieve data and create the model."
      ]
    },
    {
      "cell_type": "markdown",
      "metadata": {
        "colab_type": "text",
        "id": "mLJBe0WuWKDq"
      },
      "source": [
        "#### Collect datapoints from CDP\n",
        "\n",
        "* The following 4 columns were chosen in an effort to estimate the output pressure of the suction cooler\n",
        "\n",
        "* Input variables:\n",
        "\n",
        "  * FT: Input Flow Rate\n",
        "  \n",
        "  * PT: Input Pressure\n",
        "  \n",
        "  * TT: Input Temperature\n",
        "  \n",
        "* Output variables:\n",
        "\n",
        "  * Output *Pressure* \n",
        "  \n",
        "The time series names are defined in the *in_ts_names* and *out_ts_names* lists below.\n",
        "  "
      ]
    },
    {
      "cell_type": "code",
      "metadata": {
        "colab_type": "code",
        "id": "l4-C138i-HBy",
        "colab": {}
      },
      "source": [
        "in_ts_names = [\"VAL_23-FT-92512:X.Value\", \"VAL_23-PT-92512:X.Value\", \"VAL_23-TT-92502:X.Value\"]\n",
        "out_ts_name = \"VAL_23-PT-92504:X.Value\""
      ],
      "execution_count": 0,
      "outputs": []
    },
    {
      "cell_type": "markdown",
      "metadata": {
        "colab_type": "text",
        "id": "lvr3qJp_OQgF"
      },
      "source": [
        "#### Retrieve Data Points from CDP\n",
        "\n",
        "* Datapoints are returned in a pandas dataframe using the method *get_datapoints_frame()*, [documentation](https://cognite-sdk-python.readthedocs-hosted.com/en/latest/cognite.html#cognite.client.stable.datapoints.DatapointsClient.get_datapoints_frame).\n",
        "\n",
        "* The advantage of using this method over *get_datapoints()* is that the data is aggregated to a common timestamp. The processing is taken care of in the API.\n",
        "\n",
        "* The common timestep is assigned using *granularity* argument. In this case, 1 minute was chosen."
      ]
    },
    {
      "cell_type": "code",
      "metadata": {
        "colab_type": "code",
        "id": "I1qoX1WY-HEV",
        "colab": {}
      },
      "source": [
        "ts_names = in_ts_names + [out_ts_name]\n",
        "\n",
        "train_start_date = datetime(2018, 8, 1)\n",
        "# 30 days of training data chosen arbitrarily\n",
        "train_end_date = train_start_date + timedelta(days=30)\n",
        "\n",
        "datapoints_df = client.datapoints.retrieve(external_id=ts_names,\n",
        "                                           aggregates=['average'],\n",
        "                                           granularity='1m',\n",
        "                                           start=train_start_date,\n",
        "                                           end=train_end_date\n",
        "                                           ).to_pandas()\n",
        "datapoints_df.fillna(method=\"ffill\", inplace = True)\n",
        "datapoints_df.head()"
      ],
      "execution_count": 0,
      "outputs": []
    },
    {
      "cell_type": "code",
      "metadata": {
        "id": "YVUDfTaqK0Kh",
        "colab_type": "code",
        "colab": {}
      },
      "source": [
        "datapoints_df.isna().any()"
      ],
      "execution_count": 0,
      "outputs": []
    },
    {
      "cell_type": "code",
      "metadata": {
        "id": "dd3lh3YyK0Kk",
        "colab_type": "code",
        "colab": {}
      },
      "source": [
        "# Remove \"|average\"\n",
        "datapoints_df.rename(columns=lambda x: x[:-8] if x != \"timestamp\" else x, inplace=True)\n",
        "datapoints_df.head()"
      ],
      "execution_count": 0,
      "outputs": []
    },
    {
      "cell_type": "markdown",
      "metadata": {
        "colab_type": "text",
        "id": "cg63RY4MP1Sv"
      },
      "source": [
        "#### Visualize the Time Series data\n",
        "* Utilize matplotlib to visualize each of the time series plots\n",
        "\n",
        "The bottom right plot is the output time series, while the other 3 are the inputs used to create an estimate for the output."
      ]
    },
    {
      "cell_type": "code",
      "metadata": {
        "colab_type": "code",
        "id": "m3F0ZbBBDDB6",
        "scrolled": false,
        "colab": {}
      },
      "source": [
        "cols = list(datapoints_df.columns)\n",
        "\n",
        "fig, axes = plt.subplots(nrows=2, ncols=2, figsize=(10,10))\n",
        "for i, col in enumerate(cols):\n",
        "    datapoints_df.loc[:, [col]].plot(ax=axes[int(i>1), i%2])"
      ],
      "execution_count": 0,
      "outputs": []
    }
  ]
}