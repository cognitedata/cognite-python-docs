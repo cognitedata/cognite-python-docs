{
 "cells": [
  {
   "cell_type": "markdown",
   "metadata": {
    "colab_type": "text",
    "id": "view-in-github"
   },
   "source": [
    "<a href=\"https://colab.research.google.com/github/cognitedata/cognite-python-docs/blob/visualizing-open-industrial-data/examples/basics/visualising_open_industrial_data.ipynb\" target=\"_parent\"><img src=\"https://colab.research.google.com/assets/colab-badge.svg\" alt=\"Open In Colab\"/></a>"
   ]
  },
  {
   "cell_type": "markdown",
   "metadata": {
    "colab_type": "text",
    "id": "eAXnMj5E9jWG"
   },
   "source": [
    "# Visualising Open Industrial Data\n",
    "\n",
    "## What this notebook will achieve\n",
    "\n",
    "* Extract live data from an oil rig in the North Sea.\n",
    "\n",
    "* Visualize and inspect data directly from the Cognite Data Fusion.\n",
    "\n",
    "\n",
    "\n",
    "## Getting started\n",
    "\n",
    "* Having a basic understanding of Python concepts will help to understand the process.\n",
    "\n",
    "* Cognite has released *live* data to the public on Cognite Data Fusion streaming from [Valhall](https://www.akerbp.com/en/our-assets/production/valhall/), one of Aker's oil fields.\n",
    "\n",
    "* To access the data, generate an API Key on [Open Industrial Data](https://openindustrialdata.com/). Get your key via the Google Access platform. You will be asked to fill out some personal information to generate your personal key.\n",
    "\n",
    "* Visualize some of the machines (assets) on Valhall with Cognite's [Operational Intelligence](https://opint.cogniteapp.com/publicdata/infographics/-LOHKEJPLvt0eRIZu8mE) dashboard. This data on this page shows is streaming live data from the Valhall oil field located in the North Sea.\n",
    "\n",
    "* To understand how to interact with the data using the Python SDK ([Docs](https://cognite-sdk-python.readthedocs-hosted.com/en/latest/)) follow along in this notebook."
   ]
  },
  {
   "cell_type": "markdown",
   "metadata": {
    "colab_type": "text",
    "id": "k8-Oj493ReNU"
   },
   "source": [
    "## Environment Setup"
   ]
  },
  {
   "cell_type": "markdown",
   "metadata": {
    "colab_type": "text",
    "id": "4Lf5pnaDBLnc"
   },
   "source": [
    "#### Install the Cognite SDK package"
   ]
  },
  {
   "cell_type": "code",
   "execution_count": 1,
   "metadata": {
    "colab": {},
    "colab_type": "code",
    "id": "pbgkP3p59iiK"
   },
   "outputs": [
    {
     "name": "stdout",
     "output_type": "stream",
     "text": [
      "Looking in indexes: https://pypi.python.org/simple, https://cognite.jfrog.io/cognite/api/pypi/snakepit/simple\n",
      "Requirement already satisfied: cognite-sdk in /Users/rebeccawiborgseyfarth/miniconda3/lib/python3.7/site-packages (1.0.0a33)\n",
      "Requirement already satisfied: pandas in /Users/rebeccawiborgseyfarth/miniconda3/lib/python3.7/site-packages (from cognite-sdk) (0.24.2)\n",
      "Requirement already satisfied: requests<3.0.0,>=2.21.0 in /Users/rebeccawiborgseyfarth/miniconda3/lib/python3.7/site-packages (from cognite-sdk) (2.21.0)\n",
      "Requirement already satisfied: numpy>=1.12.0 in /Users/rebeccawiborgseyfarth/miniconda3/lib/python3.7/site-packages (from pandas->cognite-sdk) (1.16.4)\n",
      "Requirement already satisfied: python-dateutil>=2.5.0 in /Users/rebeccawiborgseyfarth/miniconda3/lib/python3.7/site-packages (from pandas->cognite-sdk) (2.8.0)\n",
      "Requirement already satisfied: pytz>=2011k in /Users/rebeccawiborgseyfarth/miniconda3/lib/python3.7/site-packages (from pandas->cognite-sdk) (2019.1)\n",
      "Requirement already satisfied: chardet<3.1.0,>=3.0.2 in /Users/rebeccawiborgseyfarth/miniconda3/lib/python3.7/site-packages (from requests<3.0.0,>=2.21.0->cognite-sdk) (3.0.4)\n",
      "Requirement already satisfied: idna<2.9,>=2.5 in /Users/rebeccawiborgseyfarth/miniconda3/lib/python3.7/site-packages (from requests<3.0.0,>=2.21.0->cognite-sdk) (2.8)\n",
      "Requirement already satisfied: certifi>=2017.4.17 in /Users/rebeccawiborgseyfarth/miniconda3/lib/python3.7/site-packages (from requests<3.0.0,>=2.21.0->cognite-sdk) (2019.3.9)\n",
      "Requirement already satisfied: urllib3<1.25,>=1.21.1 in /Users/rebeccawiborgseyfarth/miniconda3/lib/python3.7/site-packages (from requests<3.0.0,>=2.21.0->cognite-sdk) (1.24.1)\n",
      "Requirement already satisfied: six>=1.5 in /Users/rebeccawiborgseyfarth/miniconda3/lib/python3.7/site-packages (from python-dateutil>=2.5.0->pandas->cognite-sdk) (1.12.0)\n",
      "Looking in indexes: https://pypi.python.org/simple, https://cognite.jfrog.io/cognite/api/pypi/snakepit/simple\n",
      "Requirement already up-to-date: numpy in /Users/rebeccawiborgseyfarth/miniconda3/lib/python3.7/site-packages (1.16.4)\n"
     ]
    }
   ],
   "source": [
    "!pip install cognite-sdk\n",
    "!pip install --upgrade numpy"
   ]
  },
  {
   "cell_type": "markdown",
   "metadata": {
    "colab_type": "text",
    "id": "CN5J9FmPBRLk"
   },
   "source": [
    "#### Import the required packages"
   ]
  },
  {
   "cell_type": "code",
   "execution_count": 2,
   "metadata": {
    "colab": {},
    "colab_type": "code",
    "id": "uFkQ73a44wmU"
   },
   "outputs": [],
   "source": [
    "%matplotlib inline\n",
    "\n",
    "import os\n",
    "from datetime import datetime, timedelta\n",
    "from datetime import datetime\n",
    "from getpass import getpass\n",
    "\n",
    "import numpy as np\n",
    "import pandas as pd\n",
    "import matplotlib.pyplot as plt\n",
    "from sklearn.ensemble import RandomForestRegressor\n",
    "from sklearn.linear_model import LinearRegression\n",
    "from sklearn.metrics import mean_squared_error\n",
    "from sklearn.metrics import r2_score\n",
    "\n",
    "from cognite.client import CogniteClient"
   ]
  },
  {
   "cell_type": "markdown",
   "metadata": {
    "colab_type": "text",
    "id": "Pr0CQECZBWW3"
   },
   "source": [
    "#### Connect to the Cognite Data Fusion\n",
    "* This client object is how all queries will be sent to the Cognite API to retrieve data.\n",
    "\n",
    "When prompted for your API key, use the key generated by open industrial data as mentioned in the Getting Started steps."
   ]
  },
  {
   "cell_type": "code",
   "execution_count": 3,
   "metadata": {
    "colab": {},
    "colab_type": "code",
    "id": "E8CdoRFu9n2t",
    "scrolled": true
   },
   "outputs": [
    {
     "name": "stdout",
     "output_type": "stream",
     "text": [
      "Open Industrial Data API-KEY: ········\n"
     ]
    },
    {
     "name": "stderr",
     "output_type": "stream",
     "text": [
      "/usr/local/lib/python3.7/site-packages/cognite/client/_cognite_client.py:57: UserWarning: You are using version 1.0.0a35 of the SDK, however version 1.0.0b1 is available. Upgrade or set the environment variable 'COGNITE_DISABLE_PYPI_VERSION_CHECK' to suppress this warning.\n",
      "  debug=debug,\n",
      "/usr/local/lib/python3.7/site-packages/ipykernel_launcher.py:1: UserWarning: Authenticated towards inferred project 'publicdata'. Pass project to the CogniteClient constructor or set the environment variable 'COGNITE_PROJECT' to suppress this warning.\n",
      "  \"\"\"Entry point for launching an IPython kernel.\n"
     ]
    }
   ],
   "source": [
    "client = CogniteClient(api_key=getpass(\"Open Industrial Data API-KEY: \"), client_name=\"OID_example\")"
   ]
  },
  {
   "cell_type": "markdown",
   "metadata": {
    "colab_type": "text",
    "id": "VKFPBwYsRjHL"
   },
   "source": [
    "## Accessing Cognite Data Fusion (CDF)\n",
    "* The CDF organizes digital information about the physical world.\n",
    "* There are 6 kinds of objects stored on the CDF. Each of these objects in CDF are labelled with a unique ID. Information regarding a specific Asset, Event, etc are often retrieved using this ID.\n",
    "\n",
    "  * [Assets](https://doc.cognitedata.com/api/0.5/#tag/Assets) are digital representations of physical objects or groups of objects, and assets are organized into an asset hierarchy. For example, an asset can represent a water pump which is part of a subsystem on an oil fusion.\n",
    "  \n",
    "  * [Event](https://doc.cognitedata.com/api/0.5/#tag/Events) objects store complex information about multiple assets over a time period. For example, an event can describe two hours of maintenance on a water pump and some associated pipes.\n",
    "  \n",
    "  * A [File](https://doc.cognitedata.com/api/0.5/#tag/Files) stores a sequence of bytes connected to one or more assets. For example, a file can contain a piping and instrumentation diagram (P&IDs) showing how multiple assets are connected.\n",
    "  \n",
    "  * A [Time Series](https://doc.cognitedata.com/api/0.5/#tag/Time-series) consists of a sequence of data points connected to a single asset. For example: A water pump asset can have a temperature time series that records a data point in units of °C every second.\n",
    "  \n",
    "  * [Sequence](https://doc.cognitedata.com/api/0.5/#tag/Sequences) are similar to time series in that they are a key value pair, but rather than using a timestamp as the key, another measurment such as depth could be the key. For example, this is used in practice when drilling and taking measurments at various depths.\n",
    "  \n",
    "  * A [3D](https://doc.cognitedata.com/api/0.5/#tag/3D) model is typically built up by a hierarchical structure. This looks very similar to how we organize our internal asset hierarchy. 3D models are visualized via Cognite's dashboards.\n",
    "  \n",
    "* It is important to refer back to the [SDK](https://cognite-sdk-python.readthedocs-hosted.com/en/latest/cognite.html) for specific details on arguments on all avaiable methods on how to access these objects."
   ]
  },
  {
   "cell_type": "markdown",
   "metadata": {
    "colab_type": "text",
    "id": "KeCoOb_AWPv_"
   },
   "source": [
    "### Collecting Time Series Information and Data Points\n",
    "\n",
    "* Time Series objects contain the bulk of information in the CDF.\n",
    "\n",
    "* Time Series objects are generally linked to an asset through the asset_id field.\n",
    "\n",
    "* The *time_series.list()* method has a variety of filters, all are listed in the SDK.\n",
    "\n",
    "To get all time series available in the project, we can do like this:"
   ]
  },
  {
   "cell_type": "code",
   "execution_count": 4,
   "metadata": {
    "colab": {},
    "colab_type": "code",
    "id": "Y7R5IPiWK0KS"
   },
   "outputs": [
    {
     "name": "stdout",
     "output_type": "stream",
     "text": [
      "363\n"
     ]
    },
    {
     "data": {
      "text/html": [
       "<div>\n",
       "<style scoped>\n",
       "    .dataframe tbody tr th:only-of-type {\n",
       "        vertical-align: middle;\n",
       "    }\n",
       "\n",
       "    .dataframe tbody tr th {\n",
       "        vertical-align: top;\n",
       "    }\n",
       "\n",
       "    .dataframe thead th {\n",
       "        text-align: right;\n",
       "    }\n",
       "</style>\n",
       "<table border=\"1\" class=\"dataframe\">\n",
       "  <thead>\n",
       "    <tr style=\"text-align: right;\">\n",
       "      <th></th>\n",
       "      <th>assetId</th>\n",
       "      <th>createdTime</th>\n",
       "      <th>description</th>\n",
       "      <th>externalId</th>\n",
       "      <th>id</th>\n",
       "      <th>isStep</th>\n",
       "      <th>isString</th>\n",
       "      <th>lastUpdatedTime</th>\n",
       "      <th>metadata</th>\n",
       "      <th>name</th>\n",
       "      <th>unit</th>\n",
       "    </tr>\n",
       "  </thead>\n",
       "  <tbody>\n",
       "    <tr>\n",
       "      <th>0</th>\n",
       "      <td>3424990723231138</td>\n",
       "      <td>0</td>\n",
       "      <td>PH (Profiler) Shutdown Channel 0 - Tube y Posi...</td>\n",
       "      <td>VAL_23-LY-92529_SILch0_SC0_TYPSP:VALUE</td>\n",
       "      <td>35246780681261</td>\n",
       "      <td>False</td>\n",
       "      <td>False</td>\n",
       "      <td>0</td>\n",
       "      <td>{'tag': 'VAL_23-LY-92529_SILch0_SC0_TYPSP:VALU...</td>\n",
       "      <td>VAL_23-LY-92529_SILch0_SC0_TYPSP:VALUE</td>\n",
       "      <td>NaN</td>\n",
       "    </tr>\n",
       "    <tr>\n",
       "      <th>1</th>\n",
       "      <td>4293345866058133</td>\n",
       "      <td>0</td>\n",
       "      <td>PH 1stStg LO Cooler CW</td>\n",
       "      <td>VAL_45-FT-92139B:X.Value</td>\n",
       "      <td>41852231325889</td>\n",
       "      <td>False</td>\n",
       "      <td>False</td>\n",
       "      <td>0</td>\n",
       "      <td>{'tag': 'VAL_45-FT-92139B:X.Value', 'scan': '1...</td>\n",
       "      <td>VAL_45-FT-92139B:X.Value</td>\n",
       "      <td>NaN</td>\n",
       "    </tr>\n",
       "    <tr>\n",
       "      <th>2</th>\n",
       "      <td>5826132550305704</td>\n",
       "      <td>0</td>\n",
       "      <td>PH 1stStg Lube Oil Reservoir</td>\n",
       "      <td>VAL_23-LT-96182-03:X.Value</td>\n",
       "      <td>44435358976768</td>\n",
       "      <td>False</td>\n",
       "      <td>False</td>\n",
       "      <td>0</td>\n",
       "      <td>{'tag': 'VAL_23-LT-96182-03:X.Value', 'scan': ...</td>\n",
       "      <td>VAL_23-LT-96182-03:X.Value</td>\n",
       "      <td>NaN</td>\n",
       "    </tr>\n",
       "    <tr>\n",
       "      <th>3</th>\n",
       "      <td>7271158805875629</td>\n",
       "      <td>0</td>\n",
       "      <td>PH 1stStg Comp Thrust BRG IN</td>\n",
       "      <td>VAL_23-TT-96103-03:Z.X.Value</td>\n",
       "      <td>81505042780431</td>\n",
       "      <td>False</td>\n",
       "      <td>False</td>\n",
       "      <td>0</td>\n",
       "      <td>{'tag': 'VAL_23-TT-96103-03:Z.X.Value', 'scan'...</td>\n",
       "      <td>VAL_23-TT-96103-03:Z.X.Value</td>\n",
       "      <td>NaN</td>\n",
       "    </tr>\n",
       "    <tr>\n",
       "      <th>4</th>\n",
       "      <td>6191827428964450</td>\n",
       "      <td>0</td>\n",
       "      <td>PH (SwitchGear) MV-COMP.M. FEEDER/ 51-3  Non D...</td>\n",
       "      <td>VAL_23-KA-9101-M01_OC_instantaneous_residual_N...</td>\n",
       "      <td>82185797798532</td>\n",
       "      <td>False</td>\n",
       "      <td>False</td>\n",
       "      <td>0</td>\n",
       "      <td>{'tag': 'VAL_23-KA-9101-M01_OC_instantaneous_r...</td>\n",
       "      <td>VAL_23-KA-9101-M01_OC_instantaneous_residual_N...</td>\n",
       "      <td>NaN</td>\n",
       "    </tr>\n",
       "  </tbody>\n",
       "</table>\n",
       "</div>"
      ],
      "text/plain": [
       "            assetId  createdTime  \\\n",
       "0  3424990723231138            0   \n",
       "1  4293345866058133            0   \n",
       "2  5826132550305704            0   \n",
       "3  7271158805875629            0   \n",
       "4  6191827428964450            0   \n",
       "\n",
       "                                         description  \\\n",
       "0  PH (Profiler) Shutdown Channel 0 - Tube y Posi...   \n",
       "1                             PH 1stStg LO Cooler CW   \n",
       "2                       PH 1stStg Lube Oil Reservoir   \n",
       "3                       PH 1stStg Comp Thrust BRG IN   \n",
       "4  PH (SwitchGear) MV-COMP.M. FEEDER/ 51-3  Non D...   \n",
       "\n",
       "                                          externalId              id  isStep  \\\n",
       "0             VAL_23-LY-92529_SILch0_SC0_TYPSP:VALUE  35246780681261   False   \n",
       "1                           VAL_45-FT-92139B:X.Value  41852231325889   False   \n",
       "2                         VAL_23-LT-96182-03:X.Value  44435358976768   False   \n",
       "3                       VAL_23-TT-96103-03:Z.X.Value  81505042780431   False   \n",
       "4  VAL_23-KA-9101-M01_OC_instantaneous_residual_N...  82185797798532   False   \n",
       "\n",
       "   isString  lastUpdatedTime  \\\n",
       "0     False                0   \n",
       "1     False                0   \n",
       "2     False                0   \n",
       "3     False                0   \n",
       "4     False                0   \n",
       "\n",
       "                                            metadata  \\\n",
       "0  {'tag': 'VAL_23-LY-92529_SILch0_SC0_TYPSP:VALU...   \n",
       "1  {'tag': 'VAL_45-FT-92139B:X.Value', 'scan': '1...   \n",
       "2  {'tag': 'VAL_23-LT-96182-03:X.Value', 'scan': ...   \n",
       "3  {'tag': 'VAL_23-TT-96103-03:Z.X.Value', 'scan'...   \n",
       "4  {'tag': 'VAL_23-KA-9101-M01_OC_instantaneous_r...   \n",
       "\n",
       "                                                name unit  \n",
       "0             VAL_23-LY-92529_SILch0_SC0_TYPSP:VALUE  NaN  \n",
       "1                           VAL_45-FT-92139B:X.Value  NaN  \n",
       "2                         VAL_23-LT-96182-03:X.Value  NaN  \n",
       "3                       VAL_23-TT-96103-03:Z.X.Value  NaN  \n",
       "4  VAL_23-KA-9101-M01_OC_instantaneous_residual_N...  NaN  "
      ]
     },
     "execution_count": 4,
     "metadata": {},
     "output_type": "execute_result"
    }
   ],
   "source": [
    "all_timeseries = client.time_series.list(limit=-1).to_pandas()\n",
    "print(len(all_timeseries))\n",
    "all_timeseries.head()"
   ]
  },
  {
   "cell_type": "markdown",
   "metadata": {
    "colab_type": "text",
    "id": "V13m64AYK0KU"
   },
   "source": [
    "If you are curious about which asset a time series is attached to, you can retrieve more information of the asset by:"
   ]
  },
  {
   "cell_type": "code",
   "execution_count": 5,
   "metadata": {
    "colab": {},
    "colab_type": "code",
    "id": "8cJFyzeGK0KV"
   },
   "outputs": [
    {
     "data": {
      "text/html": [
       "<div>\n",
       "<style scoped>\n",
       "    .dataframe tbody tr th:only-of-type {\n",
       "        vertical-align: middle;\n",
       "    }\n",
       "\n",
       "    .dataframe tbody tr th {\n",
       "        vertical-align: top;\n",
       "    }\n",
       "\n",
       "    .dataframe thead th {\n",
       "        text-align: right;\n",
       "    }\n",
       "</style>\n",
       "<table border=\"1\" class=\"dataframe\">\n",
       "  <thead>\n",
       "    <tr style=\"text-align: right;\">\n",
       "      <th></th>\n",
       "      <th>value</th>\n",
       "    </tr>\n",
       "  </thead>\n",
       "  <tbody>\n",
       "    <tr>\n",
       "      <th>name</th>\n",
       "      <td>23-ESDV-92501A-PST</td>\n",
       "    </tr>\n",
       "    <tr>\n",
       "      <th>parentId</th>\n",
       "      <td>576308321452985</td>\n",
       "    </tr>\n",
       "    <tr>\n",
       "      <th>description</th>\n",
       "      <td>SOFT TAG VRD - PH 1STSTGSUCTCLR GAS IN</td>\n",
       "    </tr>\n",
       "    <tr>\n",
       "      <th>id</th>\n",
       "      <td>2853212781345885</td>\n",
       "    </tr>\n",
       "    <tr>\n",
       "      <th>createdTime</th>\n",
       "      <td>0</td>\n",
       "    </tr>\n",
       "    <tr>\n",
       "      <th>lastUpdatedTime</th>\n",
       "      <td>0</td>\n",
       "    </tr>\n",
       "    <tr>\n",
       "      <th>rootId</th>\n",
       "      <td>6687602007296940</td>\n",
       "    </tr>\n",
       "    <tr>\n",
       "      <th>ELC_STATUS_ID</th>\n",
       "      <td>1211</td>\n",
       "    </tr>\n",
       "    <tr>\n",
       "      <th>SOURCE_DB</th>\n",
       "      <td>workmate</td>\n",
       "    </tr>\n",
       "    <tr>\n",
       "      <th>SOURCE_TABLE</th>\n",
       "      <td>wmate_dba.wmt_tag</td>\n",
       "    </tr>\n",
       "    <tr>\n",
       "      <th>WMT_AREA_ID</th>\n",
       "      <td>1585</td>\n",
       "    </tr>\n",
       "    <tr>\n",
       "      <th>WMT_CATEGORY_ID</th>\n",
       "      <td>1152</td>\n",
       "    </tr>\n",
       "    <tr>\n",
       "      <th>WMT_CONTRACTOR_ID</th>\n",
       "      <td>1686</td>\n",
       "    </tr>\n",
       "    <tr>\n",
       "      <th>WMT_FUNC_CODE_ID</th>\n",
       "      <td>11275</td>\n",
       "    </tr>\n",
       "    <tr>\n",
       "      <th>WMT_LOCATION_ID</th>\n",
       "      <td>1004</td>\n",
       "    </tr>\n",
       "    <tr>\n",
       "      <th>WMT_SYSTEM_ID</th>\n",
       "      <td>4440</td>\n",
       "    </tr>\n",
       "    <tr>\n",
       "      <th>WMT_TAG_CREATED_DATE</th>\n",
       "      <td>2013-04-23 10:10:49</td>\n",
       "    </tr>\n",
       "    <tr>\n",
       "      <th>WMT_TAG_CRITICALLINE</th>\n",
       "      <td>N</td>\n",
       "    </tr>\n",
       "    <tr>\n",
       "      <th>WMT_TAG_DESC</th>\n",
       "      <td>SOFT TAG VRD - PH 1STSTGSUCTCLR GAS IN</td>\n",
       "    </tr>\n",
       "    <tr>\n",
       "      <th>WMT_TAG_GLOBALID</th>\n",
       "      <td>1000000000284774</td>\n",
       "    </tr>\n",
       "    <tr>\n",
       "      <th>WMT_TAG_HISTORYREQUIRED</th>\n",
       "      <td>Y</td>\n",
       "    </tr>\n",
       "    <tr>\n",
       "      <th>WMT_TAG_ID</th>\n",
       "      <td>695950</td>\n",
       "    </tr>\n",
       "    <tr>\n",
       "      <th>WMT_TAG_ID_ANCESTOR</th>\n",
       "      <td>345654</td>\n",
       "    </tr>\n",
       "    <tr>\n",
       "      <th>WMT_TAG_ISACTIVE</th>\n",
       "      <td>1</td>\n",
       "    </tr>\n",
       "    <tr>\n",
       "      <th>WMT_TAG_ISOWNEDBYPROJECT</th>\n",
       "      <td>0</td>\n",
       "    </tr>\n",
       "    <tr>\n",
       "      <th>WMT_TAG_MAINID</th>\n",
       "      <td>681760</td>\n",
       "    </tr>\n",
       "    <tr>\n",
       "      <th>WMT_TAG_NAME</th>\n",
       "      <td>23-ESDV-92501A-PST</td>\n",
       "    </tr>\n",
       "    <tr>\n",
       "      <th>WMT_TAG_UPDATED_BY</th>\n",
       "      <td>1001</td>\n",
       "    </tr>\n",
       "    <tr>\n",
       "      <th>WMT_TAG_UPDATED_DATE</th>\n",
       "      <td>2015-10-09 11:56:26</td>\n",
       "    </tr>\n",
       "  </tbody>\n",
       "</table>\n",
       "</div>"
      ],
      "text/plain": [
       "                                                           value\n",
       "name                                          23-ESDV-92501A-PST\n",
       "parentId                                         576308321452985\n",
       "description               SOFT TAG VRD - PH 1STSTGSUCTCLR GAS IN\n",
       "id                                              2853212781345885\n",
       "createdTime                                                    0\n",
       "lastUpdatedTime                                                0\n",
       "rootId                                          6687602007296940\n",
       "ELC_STATUS_ID                                               1211\n",
       "SOURCE_DB                                               workmate\n",
       "SOURCE_TABLE                                   wmate_dba.wmt_tag\n",
       "WMT_AREA_ID                                                 1585\n",
       "WMT_CATEGORY_ID                                             1152\n",
       "WMT_CONTRACTOR_ID                                           1686\n",
       "WMT_FUNC_CODE_ID                                           11275\n",
       "WMT_LOCATION_ID                                             1004\n",
       "WMT_SYSTEM_ID                                               4440\n",
       "WMT_TAG_CREATED_DATE                         2013-04-23 10:10:49\n",
       "WMT_TAG_CRITICALLINE                                           N\n",
       "WMT_TAG_DESC              SOFT TAG VRD - PH 1STSTGSUCTCLR GAS IN\n",
       "WMT_TAG_GLOBALID                                1000000000284774\n",
       "WMT_TAG_HISTORYREQUIRED                                        Y\n",
       "WMT_TAG_ID                                                695950\n",
       "WMT_TAG_ID_ANCESTOR                                       345654\n",
       "WMT_TAG_ISACTIVE                                               1\n",
       "WMT_TAG_ISOWNEDBYPROJECT                                       0\n",
       "WMT_TAG_MAINID                                            681760\n",
       "WMT_TAG_NAME                                  23-ESDV-92501A-PST\n",
       "WMT_TAG_UPDATED_BY                                          1001\n",
       "WMT_TAG_UPDATED_DATE                         2015-10-09 11:56:26"
      ]
     },
     "execution_count": 5,
     "metadata": {},
     "output_type": "execute_result"
    }
   ],
   "source": [
    "client.assets.retrieve(id=2853212781345885).to_pandas()"
   ]
  },
  {
   "cell_type": "markdown",
   "metadata": {
    "colab_type": "text",
    "id": "YIejfGjYWwNY"
   },
   "source": [
    "#### View datapoints for one of the time series\n",
    "\n",
    "* Now that we have a list of time series, we can retrieve datapoints for some of the them.\n",
    "\n",
    "* The returned object is a data frame with\n",
    "\n",
    "  * timestamp which is time in milliseconds as index\n",
    "  \n",
    "  * value which is the reading from the sensor as columns\n",
    "  \n",
    "The identifier to retrieve Datapoints is the **id** or the external id equal to the **name** column from the DataFrame above."
   ]
  },
  {
   "cell_type": "code",
   "execution_count": 6,
   "metadata": {
    "colab": {},
    "colab_type": "code",
    "id": "i_3nqZxPK0KZ"
   },
   "outputs": [
    {
     "data": {
      "text/html": [
       "<div>\n",
       "<style scoped>\n",
       "    .dataframe tbody tr th:only-of-type {\n",
       "        vertical-align: middle;\n",
       "    }\n",
       "\n",
       "    .dataframe tbody tr th {\n",
       "        vertical-align: top;\n",
       "    }\n",
       "\n",
       "    .dataframe thead th {\n",
       "        text-align: right;\n",
       "    }\n",
       "</style>\n",
       "<table border=\"1\" class=\"dataframe\">\n",
       "  <thead>\n",
       "    <tr style=\"text-align: right;\">\n",
       "      <th></th>\n",
       "      <th>VAL_45-PT-92508:X.Value</th>\n",
       "    </tr>\n",
       "  </thead>\n",
       "  <tbody>\n",
       "    <tr>\n",
       "      <th>2019-07-01 09:47:36.095</th>\n",
       "      <td>2.313878</td>\n",
       "    </tr>\n",
       "    <tr>\n",
       "      <th>2019-07-01 09:47:46.077</th>\n",
       "      <td>2.316213</td>\n",
       "    </tr>\n",
       "    <tr>\n",
       "      <th>2019-07-01 09:47:57.014</th>\n",
       "      <td>2.320363</td>\n",
       "    </tr>\n",
       "    <tr>\n",
       "      <th>2019-07-01 09:48:04.982</th>\n",
       "      <td>2.324514</td>\n",
       "    </tr>\n",
       "    <tr>\n",
       "      <th>2019-07-01 09:48:16.945</th>\n",
       "      <td>2.325811</td>\n",
       "    </tr>\n",
       "  </tbody>\n",
       "</table>\n",
       "</div>"
      ],
      "text/plain": [
       "                         VAL_45-PT-92508:X.Value\n",
       "2019-07-01 09:47:36.095                 2.313878\n",
       "2019-07-01 09:47:46.077                 2.316213\n",
       "2019-07-01 09:47:57.014                 2.320363\n",
       "2019-07-01 09:48:04.982                 2.324514\n",
       "2019-07-01 09:48:16.945                 2.325811"
      ]
     },
     "execution_count": 6,
     "metadata": {},
     "output_type": "execute_result"
    }
   ],
   "source": [
    "client.datapoints.retrieve(external_id=\"VAL_45-PT-92508:X.Value\", start=\"10d-ago\", end=\"now\").to_pandas().head()"
   ]
  },
  {
   "cell_type": "markdown",
   "metadata": {
    "colab_type": "text",
    "id": "S3fBvnnKL3ii"
   },
   "source": [
    "## Visualising the data in the CDF\n",
    "\n",
    "* The rest of the notebook will be used to retrieve and visualize data\n",
    "\n",
    "* The sensor are chosen because they are specifically good if you later want to try to create a model that predicts one sensor from the others."
   ]
  },
  {
   "cell_type": "markdown",
   "metadata": {
    "colab_type": "text",
    "id": "mLJBe0WuWKDq"
   },
   "source": [
    "#### Collect datapoints from CDF\n",
    "\n",
    "* The following four time series measures the input flow rate, pressure, and temperature and the output pressure from a suction cooler\n",
    "\n",
    "  * FT: Input Flow Rate\n",
    "  \n",
    "  * PT: Input Pressure\n",
    "  \n",
    "  * TT: Input Temperature\n",
    "\n",
    "  * Output Pressure\n",
    "\n",
    "  \n",
    "The time series names are defined in the *in_ts_names* and *out_ts_names* lists below.\n",
    "  "
   ]
  },
  {
   "cell_type": "code",
   "execution_count": 7,
   "metadata": {
    "colab": {},
    "colab_type": "code",
    "id": "l4-C138i-HBy"
   },
   "outputs": [],
   "source": [
    "in_ts_names = [\"VAL_23-FT-92512:X.Value\", \"VAL_23-PT-92512:X.Value\", \"VAL_23-TT-92502:X.Value\"]\n",
    "out_ts_name = \"VAL_23-PT-92504:X.Value\""
   ]
  },
  {
   "cell_type": "markdown",
   "metadata": {
    "colab_type": "text",
    "id": "lvr3qJp_OQgF"
   },
   "source": [
    "#### Retrieve Data Points from CDF\n",
    "\n",
    "* Datapoints are returned in a pandas dataframe using the method *datapoints.retrieve().to_pandas()*, [documentation](https://cognite-docs.readthedocs-hosted.com/projects/cognite-sdk-python/en/latest/cognite.html#retrieve-multiple-time-series-by-id).\n",
    "\n",
    "* The common timestep is assigned using *granularity* argument. In this case, 1 minute was chosen."
   ]
  },
  {
   "cell_type": "code",
   "execution_count": 8,
   "metadata": {
    "colab": {},
    "colab_type": "code",
    "id": "I1qoX1WY-HEV"
   },
   "outputs": [
    {
     "data": {
      "text/html": [
       "<div>\n",
       "<style scoped>\n",
       "    .dataframe tbody tr th:only-of-type {\n",
       "        vertical-align: middle;\n",
       "    }\n",
       "\n",
       "    .dataframe tbody tr th {\n",
       "        vertical-align: top;\n",
       "    }\n",
       "\n",
       "    .dataframe thead th {\n",
       "        text-align: right;\n",
       "    }\n",
       "</style>\n",
       "<table border=\"1\" class=\"dataframe\">\n",
       "  <thead>\n",
       "    <tr style=\"text-align: right;\">\n",
       "      <th></th>\n",
       "      <th>VAL_23-FT-92512:X.Value|average</th>\n",
       "      <th>VAL_23-PT-92512:X.Value|average</th>\n",
       "      <th>VAL_23-TT-92502:X.Value|average</th>\n",
       "      <th>VAL_23-PT-92504:X.Value|average</th>\n",
       "    </tr>\n",
       "  </thead>\n",
       "  <tbody>\n",
       "    <tr>\n",
       "      <th>2018-08-01 00:00:00</th>\n",
       "      <td>91120.918480</td>\n",
       "      <td>3.374376</td>\n",
       "      <td>44.184863</td>\n",
       "      <td>3.251437</td>\n",
       "    </tr>\n",
       "    <tr>\n",
       "      <th>2018-08-01 00:01:00</th>\n",
       "      <td>86259.975220</td>\n",
       "      <td>3.395966</td>\n",
       "      <td>44.232420</td>\n",
       "      <td>3.274299</td>\n",
       "    </tr>\n",
       "    <tr>\n",
       "      <th>2018-08-01 00:02:00</th>\n",
       "      <td>90750.665657</td>\n",
       "      <td>3.410101</td>\n",
       "      <td>44.161438</td>\n",
       "      <td>3.287578</td>\n",
       "    </tr>\n",
       "    <tr>\n",
       "      <th>2018-08-01 00:03:00</th>\n",
       "      <td>91948.525170</td>\n",
       "      <td>3.358822</td>\n",
       "      <td>43.986025</td>\n",
       "      <td>3.237081</td>\n",
       "    </tr>\n",
       "    <tr>\n",
       "      <th>2018-08-01 00:04:00</th>\n",
       "      <td>93779.111997</td>\n",
       "      <td>3.429458</td>\n",
       "      <td>43.797913</td>\n",
       "      <td>3.306391</td>\n",
       "    </tr>\n",
       "  </tbody>\n",
       "</table>\n",
       "</div>"
      ],
      "text/plain": [
       "                     VAL_23-FT-92512:X.Value|average  \\\n",
       "2018-08-01 00:00:00                     91120.918480   \n",
       "2018-08-01 00:01:00                     86259.975220   \n",
       "2018-08-01 00:02:00                     90750.665657   \n",
       "2018-08-01 00:03:00                     91948.525170   \n",
       "2018-08-01 00:04:00                     93779.111997   \n",
       "\n",
       "                     VAL_23-PT-92512:X.Value|average  \\\n",
       "2018-08-01 00:00:00                         3.374376   \n",
       "2018-08-01 00:01:00                         3.395966   \n",
       "2018-08-01 00:02:00                         3.410101   \n",
       "2018-08-01 00:03:00                         3.358822   \n",
       "2018-08-01 00:04:00                         3.429458   \n",
       "\n",
       "                     VAL_23-TT-92502:X.Value|average  \\\n",
       "2018-08-01 00:00:00                        44.184863   \n",
       "2018-08-01 00:01:00                        44.232420   \n",
       "2018-08-01 00:02:00                        44.161438   \n",
       "2018-08-01 00:03:00                        43.986025   \n",
       "2018-08-01 00:04:00                        43.797913   \n",
       "\n",
       "                     VAL_23-PT-92504:X.Value|average  \n",
       "2018-08-01 00:00:00                         3.251437  \n",
       "2018-08-01 00:01:00                         3.274299  \n",
       "2018-08-01 00:02:00                         3.287578  \n",
       "2018-08-01 00:03:00                         3.237081  \n",
       "2018-08-01 00:04:00                         3.306391  "
      ]
     },
     "execution_count": 8,
     "metadata": {},
     "output_type": "execute_result"
    }
   ],
   "source": [
    "ts_names = in_ts_names + [out_ts_name]\n",
    "\n",
    "train_start_date = datetime(2018, 8, 1)\n",
    "# 30 days of training data chosen arbitrarily\n",
    "train_end_date = train_start_date + timedelta(days=30)\n",
    "\n",
    "datapoints_df = client.datapoints.retrieve(external_id=ts_names,\n",
    "                                           aggregates=['average'],\n",
    "                                           granularity='1m',\n",
    "                                           start=train_start_date,\n",
    "                                           end=train_end_date\n",
    "                                           ).to_pandas()\n",
    "datapoints_df.fillna(method=\"ffill\", inplace = True)\n",
    "datapoints_df.head()"
   ]
  },
  {
   "cell_type": "code",
   "execution_count": 9,
   "metadata": {
    "colab": {},
    "colab_type": "code",
    "id": "YVUDfTaqK0Kh"
   },
   "outputs": [
    {
     "data": {
      "text/plain": [
       "VAL_23-FT-92512:X.Value|average    False\n",
       "VAL_23-PT-92512:X.Value|average    False\n",
       "VAL_23-TT-92502:X.Value|average    False\n",
       "VAL_23-PT-92504:X.Value|average    False\n",
       "dtype: bool"
      ]
     },
     "execution_count": 9,
     "metadata": {},
     "output_type": "execute_result"
    }
   ],
   "source": [
    "datapoints_df.isna().any()"
   ]
  },
  {
   "cell_type": "code",
   "execution_count": 10,
   "metadata": {
    "colab": {},
    "colab_type": "code",
    "id": "dd3lh3YyK0Kk"
   },
   "outputs": [
    {
     "data": {
      "text/html": [
       "<div>\n",
       "<style scoped>\n",
       "    .dataframe tbody tr th:only-of-type {\n",
       "        vertical-align: middle;\n",
       "    }\n",
       "\n",
       "    .dataframe tbody tr th {\n",
       "        vertical-align: top;\n",
       "    }\n",
       "\n",
       "    .dataframe thead th {\n",
       "        text-align: right;\n",
       "    }\n",
       "</style>\n",
       "<table border=\"1\" class=\"dataframe\">\n",
       "  <thead>\n",
       "    <tr style=\"text-align: right;\">\n",
       "      <th></th>\n",
       "      <th>VAL_23-FT-92512:X.Value</th>\n",
       "      <th>VAL_23-PT-92512:X.Value</th>\n",
       "      <th>VAL_23-TT-92502:X.Value</th>\n",
       "      <th>VAL_23-PT-92504:X.Value</th>\n",
       "    </tr>\n",
       "  </thead>\n",
       "  <tbody>\n",
       "    <tr>\n",
       "      <th>2018-08-01 00:00:00</th>\n",
       "      <td>91120.918480</td>\n",
       "      <td>3.374376</td>\n",
       "      <td>44.184863</td>\n",
       "      <td>3.251437</td>\n",
       "    </tr>\n",
       "    <tr>\n",
       "      <th>2018-08-01 00:01:00</th>\n",
       "      <td>86259.975220</td>\n",
       "      <td>3.395966</td>\n",
       "      <td>44.232420</td>\n",
       "      <td>3.274299</td>\n",
       "    </tr>\n",
       "    <tr>\n",
       "      <th>2018-08-01 00:02:00</th>\n",
       "      <td>90750.665657</td>\n",
       "      <td>3.410101</td>\n",
       "      <td>44.161438</td>\n",
       "      <td>3.287578</td>\n",
       "    </tr>\n",
       "    <tr>\n",
       "      <th>2018-08-01 00:03:00</th>\n",
       "      <td>91948.525170</td>\n",
       "      <td>3.358822</td>\n",
       "      <td>43.986025</td>\n",
       "      <td>3.237081</td>\n",
       "    </tr>\n",
       "    <tr>\n",
       "      <th>2018-08-01 00:04:00</th>\n",
       "      <td>93779.111997</td>\n",
       "      <td>3.429458</td>\n",
       "      <td>43.797913</td>\n",
       "      <td>3.306391</td>\n",
       "    </tr>\n",
       "  </tbody>\n",
       "</table>\n",
       "</div>"
      ],
      "text/plain": [
       "                     VAL_23-FT-92512:X.Value  VAL_23-PT-92512:X.Value  \\\n",
       "2018-08-01 00:00:00             91120.918480                 3.374376   \n",
       "2018-08-01 00:01:00             86259.975220                 3.395966   \n",
       "2018-08-01 00:02:00             90750.665657                 3.410101   \n",
       "2018-08-01 00:03:00             91948.525170                 3.358822   \n",
       "2018-08-01 00:04:00             93779.111997                 3.429458   \n",
       "\n",
       "                     VAL_23-TT-92502:X.Value  VAL_23-PT-92504:X.Value  \n",
       "2018-08-01 00:00:00                44.184863                 3.251437  \n",
       "2018-08-01 00:01:00                44.232420                 3.274299  \n",
       "2018-08-01 00:02:00                44.161438                 3.287578  \n",
       "2018-08-01 00:03:00                43.986025                 3.237081  \n",
       "2018-08-01 00:04:00                43.797913                 3.306391  "
      ]
     },
     "execution_count": 10,
     "metadata": {},
     "output_type": "execute_result"
    }
   ],
   "source": [
    "# Remove \"|average\"\n",
    "datapoints_df.rename(columns=lambda x: x[:-8] if x != \"timestamp\" else x, inplace=True)\n",
    "datapoints_df.head()"
   ]
  },
  {
   "cell_type": "markdown",
   "metadata": {
    "colab_type": "text",
    "id": "cg63RY4MP1Sv"
   },
   "source": [
    "#### Visualize the Time Series data\n",
    "* Utilize matplotlib to visualize each of the time series plots\n",
    "\n",
    "The bottom right plot is the output time series, while the other 3 are the inputs used to create an estimate for the output."
   ]
  },
  {
   "cell_type": "code",
   "execution_count": 11,
   "metadata": {
    "colab": {},
    "colab_type": "code",
    "id": "m3F0ZbBBDDB6",
    "scrolled": false
   },
   "outputs": [
    {
     "data": {
      "image/png": "[encoded data removed]",
      "text/plain": [
       "<Figure size 720x720 with 4 Axes>"
      ]
     },
     "metadata": {
      "needs_background": "light"
     },
     "output_type": "display_data"
    }
   ],
   "source": [
    "cols = list(datapoints_df.columns)\n",
    "\n",
    "fig, axes = plt.subplots(nrows=2, ncols=2, figsize=(10,10))\n",
    "for i, col in enumerate(cols):\n",
    "    datapoints_df.loc[:, [col]].plot(ax=axes[int(i>1), i%2])"
   ]
  }
 ],
 "metadata": {
  "colab": {
   "include_colab_link": true,
   "name": "Visualising Open Industrial Data.ipynb",
   "provenance": [],
   "version": "0.3.2"
  },
  "kernelspec": {
   "display_name": "Python 3",
   "language": "python",
   "name": "python3"
  },
  "language_info": {
   "codemirror_mode": {
    "name": "ipython",
    "version": 3
   },
   "file_extension": ".py",
   "mimetype": "text/x-python",
   "name": "python",
   "nbconvert_exporter": "python",
   "pygments_lexer": "ipython3",
   "version": "3.7.2"
  }
 },
 "nbformat": 4,
 "nbformat_minor": 1
}
